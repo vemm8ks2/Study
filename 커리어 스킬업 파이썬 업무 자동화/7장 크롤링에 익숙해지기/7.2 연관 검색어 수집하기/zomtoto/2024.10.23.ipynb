{
 "cells": [
  {
   "cell_type": "code",
   "execution_count": 16,
   "id": "82e9636a-6535-4b69-9bd5-2d8ee8ef17f9",
   "metadata": {},
   "outputs": [
    {
     "name": "stdin",
     "output_type": "stream",
     "text": [
      "키워드를 입력해주세요 :  오리너구리\n"
     ]
    },
    {
     "name": "stdout",
     "output_type": "stream",
     "text": [
      "오리너구리 알\n",
      "오리너구리 캐릭터\n",
      "오리너구리 인형\n",
      "오리너구리 필통\n",
      "오리너구리 새끼\n",
      "오리너구리 영어로\n",
      "오리너구리 독\n",
      "오리너구리 그림\n",
      "오리너구리 사진\n",
      "오리너구리 포토\n"
     ]
    }
   ],
   "source": [
    "import requests\n",
    "from bs4 import BeautifulSoup\n",
    "keyword = input(\"키워드를 입력해주세요 : \") # input를 이용하여 keyword를 입력해 변수에 저장해줌.\n",
    "code = requests.get(f\"https://search.naver.com/search.naver?where=nexearch&sm=top_hty&fbm=0&ie=utf8&query={keyword}\") # 해당하는 주소의 HTML 코드를 가져온다.\n",
    "# 단, 뒤에 입력받은 키워드를 기반으로 검색하여 해당 주소에 HTML코드를 가져옴.\n",
    "soup = BeautifulSoup(code.text, \"html.parser\")\n",
    "title = soup.select(\"div.related_srch div.tit\")\n",
    "for i in title:\n",
    "    print(i.text) # i를 할 경우 출력시 HTML 태그까지 포함되어 나오기 때문에 i.text로 텍스트만 출력해줌. "
   ]
  },
  {
   "cell_type": "markdown",
   "id": "661c5400-98aa-4628-9a47-83d009d94dfd",
   "metadata": {},
   "source": [
    "### 1분 퀴즈 풀어보기.\n",
    "#### 2. 본문에서 실습한 내용에 대한 설명 중 옳지 않은 것을 고르세요.\n",
    "\n",
    "##### 1. 사용자로부터 입력받은 키워드를 활용해 웹 페이지의 URL을 생성한다.\n",
    "##### 2. 네이버 검색 결과 페이지의 URL 중 query= 다음에 검색 키워드가 들어있다.\n",
    "##### 3. \"div.related_srch div.tit\"는 네이버 검색 페이지에서 연관 검색어를 크롤링 할 수 있는 유일한 선택자이다.\n",
    "##### 4. 코드를 실행하고 '파이썬'이라는 키워드를 검색하면 네이버에서 '파이썬'을 검색했을 때 웹 페이지의 HTML코드를 받아온다.<br>\n",
    "\n",
    "###### 정답 : 3\n",
    "###### 해설 : div.related_srch div.tit가 아니더라도 더 하위 선택자를 사용하여 연관 검색어를 크롤링할 수 있기 때문에 유일한 선택자는 아니다."
   ]
  }
 ],
 "metadata": {
  "kernelspec": {
   "display_name": "Python 3 (ipykernel)",
   "language": "python",
   "name": "python3"
  },
  "language_info": {
   "codemirror_mode": {
    "name": "ipython",
    "version": 3
   },
   "file_extension": ".py",
   "mimetype": "text/x-python",
   "name": "python",
   "nbconvert_exporter": "python",
   "pygments_lexer": "ipython3",
   "version": "3.12.4"
  }
 },
 "nbformat": 4,
 "nbformat_minor": 5
}
