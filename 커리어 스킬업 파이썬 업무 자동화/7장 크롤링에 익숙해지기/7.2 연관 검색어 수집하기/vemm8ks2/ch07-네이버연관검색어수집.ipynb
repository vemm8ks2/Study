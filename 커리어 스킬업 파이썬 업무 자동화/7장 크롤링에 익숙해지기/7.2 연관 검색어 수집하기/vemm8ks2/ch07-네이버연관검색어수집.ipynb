{
 "cells": [
  {
   "cell_type": "code",
   "execution_count": 5,
   "id": "40108031-ff67-4e11-9d60-530210438d8b",
   "metadata": {},
   "outputs": [
    {
     "name": "stdin",
     "output_type": "stream",
     "text": [
      "키워드 입력: 대학교\n"
     ]
    },
    {
     "name": "stdout",
     "output_type": "stream",
     "text": [
      "\n",
      "정화예술대학교\n",
      "경상국립대학교\n",
      "한국공학대학교\n",
      "한국영상대학교\n",
      "대학교 순위\n",
      "강서대학교\n",
      "대전과학기술대학교\n",
      "연암대학교\n",
      "용인예술과학대학교\n",
      "부산보건대학교\n"
     ]
    }
   ],
   "source": [
    "import requests\n",
    "from bs4 import BeautifulSoup\n",
    "\n",
    "keyword = input(\"키워드 입력:\")\n",
    "URL = f\"https://search.naver.com/search.naver?where=nexearch&sm=top_hty&fbm=0&ie=utf8&query={keyword}\"\n",
    "\n",
    "code = requests.get(URL)\n",
    "html = BeautifulSoup(code.text, \"html.parser\")\n",
    "\n",
    "title = html.select(\"div.related_srch div.tit\")\n",
    "\n",
    "print()\n",
    "for i in title:\n",
    "    print(i.text)"
   ]
  },
  {
   "cell_type": "code",
   "execution_count": null,
   "id": "be29ab6d-7f35-459b-9a48-b2c3b0f9a28a",
   "metadata": {},
   "outputs": [],
   "source": []
  }
 ],
 "metadata": {
  "kernelspec": {
   "display_name": "Python 3 (ipykernel)",
   "language": "python",
   "name": "python3"
  },
  "language_info": {
   "codemirror_mode": {
    "name": "ipython",
    "version": 3
   },
   "file_extension": ".py",
   "mimetype": "text/x-python",
   "name": "python",
   "nbconvert_exporter": "python",
   "pygments_lexer": "ipython3",
   "version": "3.12.4"
  }
 },
 "nbformat": 4,
 "nbformat_minor": 5
}
