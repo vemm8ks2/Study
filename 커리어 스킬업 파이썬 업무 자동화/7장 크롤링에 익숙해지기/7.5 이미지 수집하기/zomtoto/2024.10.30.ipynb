{
 "cells": [
  {
   "cell_type": "markdown",
   "id": "03b774c3-981d-433f-9a22-757744fe7d6d",
   "metadata": {},
   "source": [
    "### 이미지 수집하기"
   ]
  },
  {
   "cell_type": "code",
   "execution_count": 14,
   "id": "00a206f2-6e33-42f5-a2b8-075d7497306f",
   "metadata": {},
   "outputs": [
    {
     "name": "stdout",
     "output_type": "stream",
     "text": [
      "제목:아마존 활명수\n",
      "<img alt=\"아마존 활명수 포스터\" onerror=\"errorImage(this)\" src=\"https://img.cgv.co.kr/Movie/Thumbnail/Poster/000088/88539/88539_320.jpg\"/>\n",
      "-----------------------------\n",
      "제목:베놈: 라스트 댄스\n",
      "<img alt=\"베놈: 라스트 댄스 포스터\" onerror=\"errorImage(this)\" src=\"https://img.cgv.co.kr/Movie/Thumbnail/Poster/000088/88526/88526_320.jpg\"/>\n",
      "-----------------------------\n",
      "제목:2024 LoL 월드챔피언십 결승전\n",
      "<img alt=\"2024 LoL 월드챔피언십 결승전 포스터\" onerror=\"errorImage(this)\" src=\"https://img.cgv.co.kr/Movie/Thumbnail/Poster/000088/88896/88896_320.jpg\"/>\n",
      "-----------------------------\n",
      "제목:글래디에이터 Ⅱ\n",
      "<img alt=\"글래디에이터 Ⅱ 포스터\" onerror=\"errorImage(this)\" src=\"https://img.cgv.co.kr/Movie/Thumbnail/Poster/000088/88459/88459_320.jpg\"/>\n",
      "-----------------------------\n",
      "제목:청설\n",
      "<img alt=\"청설 포스터\" onerror=\"errorImage(this)\" src=\"https://img.cgv.co.kr/Movie/Thumbnail/Poster/000088/88847/88847_320.jpg\"/>\n",
      "-----------------------------\n",
      "제목:롱레그스\n",
      "<img alt=\"롱레그스 포스터\" onerror=\"errorImage(this)\" src=\"https://img.cgv.co.kr/Movie/Thumbnail/Poster/000088/88659/88659_320.jpg\"/>\n",
      "-----------------------------\n",
      "제목:날씨의 아이\n",
      "<img alt=\"날씨의 아이 포스터\" onerror=\"errorImage(this)\" src=\"https://img.cgv.co.kr/Movie/Thumbnail/Poster/000087/87033/87033_320.jpg\"/>\n",
      "-----------------------------\n",
      "제목:리틀 엠마\n",
      "<img alt=\"리틀 엠마 포스터\" onerror=\"errorImage(this)\" src=\"https://img.cgv.co.kr/Movie/Thumbnail/Poster/000088/88813/88813_320.jpg\"/>\n",
      "-----------------------------\n",
      "제목:보통의 가족\n",
      "<img alt=\"보통의 가족 포스터\" onerror=\"errorImage(this)\" src=\"https://img.cgv.co.kr/Movie/Thumbnail/Poster/000088/88688/88688_320.jpg\"/>\n",
      "-----------------------------\n",
      "제목:쏜애플 불구경 2024 라이브 콘서트 필름\n",
      "<img alt=\"쏜애플 불구경 2024 라이브 콘서트 필름 포스터\" onerror=\"errorImage(this)\" src=\"https://img.cgv.co.kr/Movie/Thumbnail/Poster/000088/88837/88837_320.jpg\"/>\n",
      "-----------------------------\n",
      "제목:최소한의 선의\n",
      "<img alt=\"최소한의 선의 포스터\" onerror=\"errorImage(this)\" src=\"https://img.cgv.co.kr/Movie/Thumbnail/Poster/000088/88685/88685_320.jpg\"/>\n",
      "-----------------------------\n",
      "제목:대도시의 사랑법\n",
      "<img alt=\"대도시의 사랑법 포스터\" onerror=\"errorImage(this)\" src=\"https://img.cgv.co.kr/Movie/Thumbnail/Poster/000088/88538/88538_320.jpg\"/>\n",
      "-----------------------------\n",
      "제목:임영웅ㅣ아임 히어로 더 스타디움\n",
      "<img alt=\"임영웅ㅣ아임 히어로 더 스타디움 포스터\" onerror=\"errorImage(this)\" src=\"https://img.cgv.co.kr/Movie/Thumbnail/Poster/000088/88499/88499_320.jpg\"/>\n",
      "-----------------------------\n",
      "제목:오후 네시\n",
      "<img alt=\"오후 네시 포스터\" onerror=\"errorImage(this)\" src=\"https://img.cgv.co.kr/Movie/Thumbnail/Poster/000088/88804/88804_320.jpg\"/>\n",
      "-----------------------------\n",
      "제목:너의 색\n",
      "<img alt=\"너의 색 포스터\" onerror=\"errorImage(this)\" src=\"https://img.cgv.co.kr/Movie/Thumbnail/Poster/000088/88740/88740_320.jpg\"/>\n",
      "-----------------------------\n",
      "제목:명탐정 코난-100만 달러의 펜타그램\n",
      "<img alt=\"명탐정 코난-100만 달러의 펜타그램 포스터\" onerror=\"errorImage(this)\" src=\"https://img.cgv.co.kr/Movie/Thumbnail/Poster/000088/88390/88390_320.jpg\"/>\n",
      "-----------------------------\n",
      "제목:공작새\n",
      "<img alt=\"공작새 포스터\" onerror=\"errorImage(this)\" src=\"https://img.cgv.co.kr/Movie/Thumbnail/Poster/000088/88805/88805_320.jpg\"/>\n",
      "-----------------------------\n",
      "제목:위키드\n",
      "<img alt=\"위키드 포스터\" onerror=\"errorImage(this)\" src=\"https://img.cgv.co.kr/Movie/Thumbnail/Poster/000088/88076/88076_320.jpg\"/>\n",
      "-----------------------------\n",
      "제목:하이라이트: 라이츠 고 온, 어게인 인 시네마\n",
      "<img alt=\"하이라이트: 라이츠 고 온, 어게인 인 시네마 포스터\" onerror=\"errorImage(this)\" src=\"https://img.cgv.co.kr/Movie/Thumbnail/Poster/000088/88809/88809_320.jpg\"/>\n",
      "-----------------------------\n"
     ]
    }
   ],
   "source": [
    "import requests \n",
    "from bs4 import BeautifulSoup\n",
    "code = requests.get(\"http://www.cgv.co.kr/movies/?It=1&ft=0\")\n",
    "soup = BeautifulSoup(code.text,\"html.parser\")\n",
    "title_elements = soup.select(\"strong.title\")\n",
    "image_elements = soup.select(\"span.thumb-image>img\")\n",
    "for title, image in zip(title_elements,image_elements):\n",
    "    print(f\"제목:{title.text}\")\n",
    "    print(image)\n",
    "    print(\"-----------------------------\")"
   ]
  },
  {
   "cell_type": "code",
   "execution_count": 16,
   "id": "ebc49bf6-8305-4e73-a9c4-4b65216dbe09",
   "metadata": {},
   "outputs": [
    {
     "name": "stdout",
     "output_type": "stream",
     "text": [
      "제목:아마존 활명수\n",
      "https://img.cgv.co.kr/Movie/Thumbnail/Poster/000088/88539/88539_320.jpg\n",
      "-----------------------------\n",
      "제목:베놈: 라스트 댄스\n",
      "https://img.cgv.co.kr/Movie/Thumbnail/Poster/000088/88526/88526_320.jpg\n",
      "-----------------------------\n",
      "제목:2024 LoL 월드챔피언십 결승전\n",
      "https://img.cgv.co.kr/Movie/Thumbnail/Poster/000088/88896/88896_320.jpg\n",
      "-----------------------------\n",
      "제목:글래디에이터 Ⅱ\n",
      "https://img.cgv.co.kr/Movie/Thumbnail/Poster/000088/88459/88459_320.jpg\n",
      "-----------------------------\n",
      "제목:청설\n",
      "https://img.cgv.co.kr/Movie/Thumbnail/Poster/000088/88847/88847_320.jpg\n",
      "-----------------------------\n",
      "제목:롱레그스\n",
      "https://img.cgv.co.kr/Movie/Thumbnail/Poster/000088/88659/88659_320.jpg\n",
      "-----------------------------\n",
      "제목:날씨의 아이\n",
      "https://img.cgv.co.kr/Movie/Thumbnail/Poster/000087/87033/87033_320.jpg\n",
      "-----------------------------\n",
      "제목:리틀 엠마\n",
      "https://img.cgv.co.kr/Movie/Thumbnail/Poster/000088/88813/88813_320.jpg\n",
      "-----------------------------\n",
      "제목:보통의 가족\n",
      "https://img.cgv.co.kr/Movie/Thumbnail/Poster/000088/88688/88688_320.jpg\n",
      "-----------------------------\n",
      "제목:쏜애플 불구경 2024 라이브 콘서트 필름\n",
      "https://img.cgv.co.kr/Movie/Thumbnail/Poster/000088/88837/88837_320.jpg\n",
      "-----------------------------\n",
      "제목:최소한의 선의\n",
      "https://img.cgv.co.kr/Movie/Thumbnail/Poster/000088/88685/88685_320.jpg\n",
      "-----------------------------\n",
      "제목:대도시의 사랑법\n",
      "https://img.cgv.co.kr/Movie/Thumbnail/Poster/000088/88538/88538_320.jpg\n",
      "-----------------------------\n",
      "제목:임영웅ㅣ아임 히어로 더 스타디움\n",
      "https://img.cgv.co.kr/Movie/Thumbnail/Poster/000088/88499/88499_320.jpg\n",
      "-----------------------------\n",
      "제목:오후 네시\n",
      "https://img.cgv.co.kr/Movie/Thumbnail/Poster/000088/88804/88804_320.jpg\n",
      "-----------------------------\n",
      "제목:너의 색\n",
      "https://img.cgv.co.kr/Movie/Thumbnail/Poster/000088/88740/88740_320.jpg\n",
      "-----------------------------\n",
      "제목:명탐정 코난-100만 달러의 펜타그램\n",
      "https://img.cgv.co.kr/Movie/Thumbnail/Poster/000088/88390/88390_320.jpg\n",
      "-----------------------------\n",
      "제목:공작새\n",
      "https://img.cgv.co.kr/Movie/Thumbnail/Poster/000088/88805/88805_320.jpg\n",
      "-----------------------------\n",
      "제목:위키드\n",
      "https://img.cgv.co.kr/Movie/Thumbnail/Poster/000088/88076/88076_320.jpg\n",
      "-----------------------------\n",
      "제목:하이라이트: 라이츠 고 온, 어게인 인 시네마\n",
      "https://img.cgv.co.kr/Movie/Thumbnail/Poster/000088/88809/88809_320.jpg\n",
      "-----------------------------\n"
     ]
    }
   ],
   "source": [
    "import requests \n",
    "from bs4 import BeautifulSoup\n",
    "code = requests.get(\"http://www.cgv.co.kr/movies/?It=1&ft=0\")\n",
    "soup = BeautifulSoup(code.text,\"html.parser\")\n",
    "title_elements = soup.select(\"strong.title\")\n",
    "image_elements = soup.select(\"span.thumb-image>img\")\n",
    "for title, image in zip(title_elements,image_elements):\n",
    "    print(f\"제목:{title.text}\")\n",
    "    print(image.attrs[\"src\"])\n",
    "    print(\"-----------------------------\")"
   ]
  },
  {
   "cell_type": "code",
   "execution_count": 18,
   "id": "1adc250a-577f-4a03-976c-dc7b5fd22a9e",
   "metadata": {},
   "outputs": [
    {
     "name": "stdout",
     "output_type": "stream",
     "text": [
      "제목:아마존 활명수\n",
      "-----------------------------\n",
      "제목:베놈: 라스트 댄스\n",
      "-----------------------------\n",
      "제목:2024 LoL 월드챔피언십 결승전\n",
      "-----------------------------\n",
      "제목:글래디에이터 Ⅱ\n",
      "-----------------------------\n",
      "제목:청설\n",
      "-----------------------------\n",
      "제목:롱레그스\n",
      "-----------------------------\n",
      "제목:날씨의 아이\n",
      "-----------------------------\n",
      "제목:리틀 엠마\n",
      "-----------------------------\n",
      "제목:보통의 가족\n",
      "-----------------------------\n",
      "제목:쏜애플 불구경 2024 라이브 콘서트 필름\n",
      "-----------------------------\n",
      "제목:최소한의 선의\n",
      "-----------------------------\n",
      "제목:대도시의 사랑법\n",
      "-----------------------------\n",
      "제목:임영웅ㅣ아임 히어로 더 스타디움\n",
      "-----------------------------\n",
      "제목:오후 네시\n",
      "-----------------------------\n",
      "제목:너의 색\n",
      "-----------------------------\n",
      "제목:명탐정 코난-100만 달러의 펜타그램\n",
      "-----------------------------\n",
      "제목:공작새\n",
      "-----------------------------\n",
      "제목:위키드\n",
      "-----------------------------\n",
      "제목:하이라이트: 라이츠 고 온, 어게인 인 시네마\n",
      "-----------------------------\n"
     ]
    }
   ],
   "source": [
    "import requests \n",
    "from bs4 import BeautifulSoup\n",
    "import urllib.request as req\n",
    "import os\n",
    "code = requests.get(\"http://www.cgv.co.kr/movies/?It=1&ft=0\")\n",
    "soup = BeautifulSoup(code.text,\"html.parser\")\n",
    "title_elements = soup.select(\"strong.title\")\n",
    "image_elements = soup.select(\"span.thumb-image>img\")\n",
    "# 이미지 내려받을 폴더 생성\n",
    "folder_name=\"./CGV 무비차트 포스터\"\n",
    "if not os.path.exists(folder_name):\n",
    "    os.mkdir(folder_name)\n",
    "num = 1\n",
    "for title, image in zip(title_elements,image_elements):\n",
    "    print(f\"제목:{title.text}\")\n",
    "    img_url = image.attrs[\"src\"]\n",
    "    req.urlretrieve(img_url,f\"{folder_name}/{num}.jpg\")\n",
    "    num += 1\n",
    "    print(\"-----------------------------\")"
   ]
  },
  {
   "cell_type": "markdown",
   "id": "9e780f58-852c-48b7-a0dc-f8dbc5d0f662",
   "metadata": {},
   "source": [
    "\n",
    "### 1분 퀴즈 풀어보기 [p.227]\n",
    "#### 5. 다음은 서울 지하철 노선도 사이트(https://www.sisul.or.kr/open_content/skydome/introduce/pop_subway.jsp)에서 서울 지하철 노선 이미지를 내려받는 프로그램이지만, 실행하면 오류가 발생합니다. 오류가 발생하지 않도록 코드를 고치세요.도.png\")`"
   ]
  },
  {
   "cell_type": "code",
   "execution_count": 67,
   "id": "193fc296-6331-4de9-b62f-7429daa7b0d6",
   "metadata": {},
   "outputs": [
    {
     "ename": "SyntaxError",
     "evalue": "invalid syntax (3295858620.py, line 6)",
     "output_type": "error",
     "traceback": [
      "\u001b[1;36m  Cell \u001b[1;32mIn[67], line 6\u001b[1;36m\u001b[0m\n\u001b[1;33m    code = requests.get(\"https://www.sisul.or.kr/open_content/skydome/introduce/pop_subway.jsp\")<br>\u001b[0m\n\u001b[1;37m                                                                                                    ^\u001b[0m\n\u001b[1;31mSyntaxError\u001b[0m\u001b[1;31m:\u001b[0m invalid syntax\n"
     ]
    }
   ],
   "source": [
    "    #문제\n",
    "    import requests \n",
    "    from bs4 import BeautifulSoup \n",
    "    import urllib.request as req \n",
    "    \n",
    "    code = requests.get(\"https://www.sisul.or.kr/open_content/skydome/introduce/pop_subway.jsp\")<br>\n",
    "    soup = BeautifulSoup(code.text,\"html.parser\")<br>\n",
    "    image_elements = soup.select_one(\"div.center>img\")<br>\n",
    "    img_url = image_element.attrs[\"src\"]<br>\n",
    "    req.urlretrieve(img_url,\"지하철 노선도.png\")\n"
   ]
  },
  {
   "cell_type": "code",
   "execution_count": 70,
   "id": "4b711b6d-9898-4521-bf8d-cd6a5cc9ac5d",
   "metadata": {},
   "outputs": [
    {
     "data": {
      "text/plain": [
       "('지하철 노선도.png', <http.client.HTTPMessage at 0x15159b9a300>)"
      ]
     },
     "execution_count": 70,
     "metadata": {},
     "output_type": "execute_result"
    }
   ],
   "source": [
    "##### 정답\n",
    "\n",
    "\n",
    "import requests \n",
    "from bs4 import BeautifulSoup\n",
    "import urllib.request as req\n",
    "code = requests.get(\"https://www.sisul.or.kr/open_content/skydome/introduce/pop_subway.jsp\")\n",
    "soup = BeautifulSoup(code.text,\"html.parser\")\n",
    "image_element = soup.select_one(\"div.center > img\")\n",
    "img_url = \"https://www.sisul.or.kr\"+image_element.attrs[\"src\"] # 수정된 부분\n",
    "req.urlretrieve(img_url,\"지하철 노선도.png\")\n",
    "\n"
   ]
  }
 ],
 "metadata": {
  "kernelspec": {
   "display_name": "Python 3 (ipykernel)",
   "language": "python",
   "name": "python3"
  },
  "language_info": {
   "codemirror_mode": {
    "name": "ipython",
    "version": 3
   },
   "file_extension": ".py",
   "mimetype": "text/x-python",
   "name": "python",
   "nbconvert_exporter": "python",
   "pygments_lexer": "ipython3",
   "version": "3.12.4"
  }
 },
 "nbformat": 4,
 "nbformat_minor": 5
}
