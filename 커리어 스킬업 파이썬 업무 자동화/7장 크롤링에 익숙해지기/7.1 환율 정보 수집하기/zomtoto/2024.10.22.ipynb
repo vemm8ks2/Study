{
 "cells": [
  {
   "cell_type": "markdown",
   "id": "65c130d3-76ac-4332-b852-aade70fc3ce1",
   "metadata": {},
   "source": [
    "### 환율 정보 수집하기!\n",
    "#### 1. Python용 HTTP 라이브러리 설치\n",
    "#### 2. HTML 파싱 라이브러리 설치\n",
    "#### 3. 해당 주소의 HTML코드를 가져오기.\n",
    "#### 4. HTML 코드를 파싱하여 BeautifulSoup 객체로 변환\n",
    "#### 5. css선택자를 이용하여 HTML 요소 선택.\n",
    "#### 6. 선택한 요소만큼 반복하기\n",
    "#### 7. 문자열로 변환하여 출력"
   ]
  },
  {
   "cell_type": "code",
   "execution_count": 9,
   "id": "beb7aba2-75c0-48c0-b705-b02757689279",
   "metadata": {},
   "outputs": [
    {
     "name": "stdout",
     "output_type": "stream",
     "text": [
      "1,380.60\n",
      "914.52\n",
      "1,493.19\n",
      "193.47\n"
     ]
    }
   ],
   "source": [
    "#2024.10.22\n",
    "import requests #1. \n",
    "from bs4 import BeautifulSoup #2.\n",
    "code = requests.get(\"https://finance.naver.com/marketindex/\") #3.\n",
    "soup = BeautifulSoup(code.text, \"html.parser\") #4.\n",
    "price = soup.select(\"ul#exchangeList span.value\") #5. \n",
    "for i in price: #6. \n",
    "    print(i.text) #7. "
   ]
  },
  {
   "cell_type": "markdown",
   "id": "f9e098c6-d8fc-4d8c-b2aa-0daa28498e57",
   "metadata": {},
   "source": [
    "### [참고!] \n",
    "class와 id가 둘다 존재하고 있을때 중복을 허용하지 않는 id를 사용하는 것이 좋다.<br>\n",
    "#=> id 속성을 가진 요소를 선택할 때 사용함. <br>\n",
    ".=> class 속성을 가진 요소를 선택할 때 사용함.\n"
   ]
  }
 ],
 "metadata": {
  "kernelspec": {
   "display_name": "Python 3 (ipykernel)",
   "language": "python",
   "name": "python3"
  },
  "language_info": {
   "codemirror_mode": {
    "name": "ipython",
    "version": 3
   },
   "file_extension": ".py",
   "mimetype": "text/x-python",
   "name": "python",
   "nbconvert_exporter": "python",
   "pygments_lexer": "ipython3",
   "version": "3.12.4"
  }
 },
 "nbformat": 4,
 "nbformat_minor": 5
}
