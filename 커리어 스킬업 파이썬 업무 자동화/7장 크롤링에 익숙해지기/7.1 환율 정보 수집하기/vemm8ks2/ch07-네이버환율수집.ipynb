{
 "cells": [
  {
   "cell_type": "code",
   "execution_count": 2,
   "id": "947518d9-bfe3-4e02-8ef7-d3a43884166b",
   "metadata": {},
   "outputs": [
    {
     "name": "stdout",
     "output_type": "stream",
     "text": [
      "1,360.90\n",
      "912.10\n",
      "1,482.50\n",
      "191.09\n"
     ]
    }
   ],
   "source": [
    "import requests\n",
    "from bs4 import BeautifulSoup\n",
    "\n",
    "code = requests.get('https://finance.naver.com/marketindex/')\n",
    "html = BeautifulSoup(code.text, 'html.parser')\n",
    "\n",
    "price = html.select('ul#exchangeList span.value')\n",
    "\n",
    "for i in price:\n",
    "    print(i.text)"
   ]
  },
  {
   "cell_type": "code",
   "execution_count": null,
   "id": "bb881d18-28cf-4e1e-810e-f3b19bcd7400",
   "metadata": {},
   "outputs": [],
   "source": []
  }
 ],
 "metadata": {
  "kernelspec": {
   "display_name": "Python 3 (ipykernel)",
   "language": "python",
   "name": "python3"
  },
  "language_info": {
   "codemirror_mode": {
    "name": "ipython",
    "version": 3
   },
   "file_extension": ".py",
   "mimetype": "text/x-python",
   "name": "python",
   "nbconvert_exporter": "python",
   "pygments_lexer": "ipython3",
   "version": "3.12.4"
  }
 },
 "nbformat": 4,
 "nbformat_minor": 5
}
