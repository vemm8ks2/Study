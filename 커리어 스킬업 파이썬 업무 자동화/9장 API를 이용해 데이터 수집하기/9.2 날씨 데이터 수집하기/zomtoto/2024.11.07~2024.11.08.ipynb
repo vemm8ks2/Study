{
 "cells": [
  {
   "cell_type": "code",
   "execution_count": 9,
   "id": "4c2ca09c-b02f-43be-b0aa-bf602d739dfd",
   "metadata": {},
   "outputs": [
    {
     "name": "stdout",
     "output_type": "stream",
     "text": [
      "도시명: Seoul\n",
      "현재 날씨: Clear\n",
      "현재 기온: 6도\n",
      "체감 기온: 4도\n",
      "습도: 75%\n",
      "풍속: 2.06m/s\n"
     ]
    }
   ],
   "source": [
    "import requests \n",
    "import json\n",
    "API_key = 'API키 입력란'\n",
    "city_name = 'Seoul'\n",
    "\n",
    "url = f\"https://api.openweathermap.org/data/2.5/weather?q={city_name}&appid={API_key}\"\n",
    "data = requests.get(url)\n",
    "\n",
    "data_dict = json.loads(data.text)\n",
    "print(f\"도시명: {data_dict['name']}\")\n",
    "print(f\"현재 날씨: {data_dict['weather'][0]['main']}\")\n",
    "print(f\"현재 기온: {round(data_dict['main']['temp']-273.15)}도\")\n",
    "print(f\"체감 기온: {round(data_dict['main']['feels_like']-273.15)}도\")\n",
    "print(f\"습도: {data_dict['main']['humidity']}%\")\n",
    "print(f\"풍속: {data_dict['wind']['speed']}m/s\")"
   ]
  },
  {
   "cell_type": "markdown",
   "id": "c6ef98bf-a61b-4818-8a7c-3b7fd7689c47",
   "metadata": {},
   "source": [
    "### 1분 퀴즈 풀어보기 [p.303]\n",
    "#### 1. 다음 foo 변수에서 숫자 100을 꺼내는 방법을 고르세요.\n",
    "##### foo = {\"사과\":5,\"바나나\":[{\"a\":10,\"b\":23,\"c\":34},{\"a\":54,\"b\":48,\"c\":100}]}\n",
    "###### 1. foo[\"바나나\"][2][2]\n",
    "###### 2. foo[\"바나나\"][\"C\"]\n",
    "###### 3. foo[\"바나나\"][1][\"c\"]\n",
    "###### 4. foo[\"바나나\"][\"C\"][2]\n",
    "###### 정답 : 3"
   ]
  }
 ],
 "metadata": {
  "kernelspec": {
   "display_name": "Python 3 (ipykernel)",
   "language": "python",
   "name": "python3"
  },
  "language_info": {
   "codemirror_mode": {
    "name": "ipython",
    "version": 3
   },
   "file_extension": ".py",
   "mimetype": "text/x-python",
   "name": "python",
   "nbconvert_exporter": "python",
   "pygments_lexer": "ipython3",
   "version": "3.12.4"
  }
 },
 "nbformat": 4,
 "nbformat_minor": 5
}
