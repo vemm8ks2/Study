{
 "cells": [
  {
   "cell_type": "code",
   "execution_count": 14,
   "id": "20bf9d94-fc38-4aef-9bc0-fed3bc2876d0",
   "metadata": {},
   "outputs": [
    {
     "name": "stdout",
     "output_type": "stream",
     "text": [
      "{\"cod\":401, \"message\": \"Invalid API key. Please see https://openweathermap.org/faq#error401 for more info.\"}\n"
     ]
    }
   ],
   "source": [
    "import requests\n",
    "\n",
    "api_key = \"\"\n",
    "city_name = \"Seoul\"\n",
    "\n",
    "url = f\"https://api.openweathermap.org/data/2.5/weather?q={city_name}&appid={api_key}\"\n",
    "data = requests.get(url)\n",
    "\n",
    "print(data.text)"
   ]
  },
  {
   "cell_type": "code",
   "execution_count": 4,
   "id": "4fefa538-7e37-4ded-b804-0befc908d831",
   "metadata": {},
   "outputs": [
    {
     "name": "stdout",
     "output_type": "stream",
     "text": [
      "{'coord': {'lon': 126.9778, 'lat': 37.5683}, 'weather': [{'id': 800, 'main': 'Clear', 'description': 'clear sky', 'icon': '01d'}], 'base': 'stations', 'main': {'temp': 292.89, 'feels_like': 292.38, 'temp_min': 290.84, 'temp_max': 292.91, 'pressure': 1022, 'humidity': 56, 'sea_level': 1022, 'grnd_level': 1015}, 'visibility': 10000, 'wind': {'speed': 2.06, 'deg': 250}, 'clouds': {'all': 0}, 'dt': 1730362639, 'sys': {'type': 1, 'id': 8105, 'country': 'KR', 'sunrise': 1730325353, 'sunset': 1730363722}, 'timezone': 32400, 'id': 1835848, 'name': 'Seoul', 'cod': 200}\n"
     ]
    }
   ],
   "source": [
    "import json\n",
    "\n",
    "data_dict = json.loads(data.text)\n",
    "print(data_dict)"
   ]
  },
  {
   "cell_type": "code",
   "execution_count": 7,
   "id": "4799451d-4ea9-49bc-b47b-6cf7d31bff25",
   "metadata": {},
   "outputs": [
    {
     "name": "stdout",
     "output_type": "stream",
     "text": [
      "도시명 : Seoul\n",
      "현재 날씨 : Clear\n",
      "현재 기온 : 20도\n",
      "체감 기온 : 19도\n",
      "습도 : 56 %\n",
      "풍속 : 2.06 m/s\n"
     ]
    }
   ],
   "source": [
    "print(f\"도시명 : {data_dict['name']}\")\n",
    "print(f\"현재 날씨 : {data_dict['weather'][0]['main']}\")\n",
    "print(f\"현재 기온 : {round(data_dict['main']['temp'] - 273.15)}도\")\n",
    "print(f\"체감 기온 : {round(data_dict['main']['feels_like'] - 273.15)}도\")\n",
    "print(f\"습도 : {data_dict['main']['humidity']} %\")\n",
    "print(f\"풍속 : {data_dict['wind']['speed']} m/s\")"
   ]
  },
  {
   "cell_type": "markdown",
   "id": "7dacbdb3-558b-4950-ae79-7a72f50e0a1d",
   "metadata": {},
   "source": [
    "API 미사용시 기상청 사이트에서 bs4 혹은 selenium 모듈을 사용하여 긴 코드를 작성해야 했을 것에 비하면 매우 간단하게 데이터를 가져올 수 있다."
   ]
  }
 ],
 "metadata": {
  "kernelspec": {
   "display_name": "Python 3 (ipykernel)",
   "language": "python",
   "name": "python3"
  },
  "language_info": {
   "codemirror_mode": {
    "name": "ipython",
    "version": 3
   },
   "file_extension": ".py",
   "mimetype": "text/x-python",
   "name": "python",
   "nbconvert_exporter": "python",
   "pygments_lexer": "ipython3",
   "version": "3.12.4"
  }
 },
 "nbformat": 4,
 "nbformat_minor": 5
}
