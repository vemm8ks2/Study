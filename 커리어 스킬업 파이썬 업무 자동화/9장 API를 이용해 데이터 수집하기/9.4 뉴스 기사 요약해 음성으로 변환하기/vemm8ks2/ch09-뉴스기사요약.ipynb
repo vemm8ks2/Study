{
 "cells": [
  {
   "cell_type": "markdown",
   "id": "fe07c593-fa5e-4af2-ab50-fe7cbc506aac",
   "metadata": {},
   "source": [
    "### 실습 전 설치해야할 라이브러리 및 명령어\n",
    "```!pip install newspaper3k==0.2.8```<br>\n",
    "```!pip install lxml-html-clean==0.1.1```"
   ]
  },
  {
   "cell_type": "markdown",
   "id": "3182832d-e8c7-42e0-8fdc-75c7266da0ef",
   "metadata": {},
   "source": [
    "---\n",
    "### 9.4.1 뉴스 기사 수집하기"
   ]
  },
  {
   "cell_type": "code",
   "execution_count": 11,
   "id": "42a20645-3cdc-446d-b483-0439462d05cc",
   "metadata": {},
   "outputs": [
    {
     "name": "stdout",
     "output_type": "stream",
     "text": [
      "|| --- [중앙일보 경제 뉴스]\n",
      "|| --- 1 - 5억에 사놓고 200억에 판다…재벌 2세의 옥수동 알박기?\n",
      "|| --- 2 - 윤 대통령, 7일 대국민담화·기자회견…명태균·김여사 설명한다\n",
      "|| --- 3 - 백종원보다 입맛 좋았다…'새로' 대박낸 전자 혀의 비밀\n",
      "|| --- 4 - '모다모다 샴푸' 망한거 아냐? 100억 사옥 팔고 돌아왔다\n",
      "|| --- 5 - 공항에 뜬 거대한 은색 차…지드래곤, 국내 미출시 테슬라 탔다\n",
      "||\n"
     ]
    },
    {
     "name": "stdin",
     "output_type": "stream",
     "text": [
      "|| --- 확인할 뉴스를 선택하세요 : 1\n"
     ]
    },
    {
     "name": "stdout",
     "output_type": "stream",
     "text": [
      "└└\n",
      " ‘알박기’란 개발사업이 추진되고 있는 곳의 일부 땅(사업에 꼭 필요한 땅)을 매입한 후 개발사업자에게 고가로 되파는 부동산 투기수법을 말합니다. 알박기는 사업을 지연시키고, 필요 이상으로 사업비를 증대시키기 때문에 부동산 투기수법 중에서도 ‘악질’로 꼽힙니다.\n",
      "\n",
      "그런데 요즘 서울 한복판의 한 재건축 사업장이 ‘알박기 논란’으로 시끄럽습니다. 주민들에 따르면 이 아파트의 유일한 차량 통행로(주 출입로)의 일부(약 40평) 등을 5억여원에 산 사람이 주민들에게 그 땅을 200억원대에 매입하라고 한다는 것입니다.\n",
      "\n",
      "특히 그 ‘땅 주인’이 30대 그룹 창업자의 외아들이어서 더 논란이 큽니다.\n",
      "\n",
      "논란이 일고 있는 아파트는 서울 성동구 옥수동의 한남 하이츠(28평~55평, 535가구)입니다. 지은 지 40년(1982년 준공)이 넘은 단지로 현재 재건축을 추진 중인데, 2020년 정비사업 사업시행인가(조건부)를 받은 후 아직 다음 진도를 못 나가고 있습니다.\n",
      "\n",
      "40평 땅에 발목 잡힌 500여 가구 재건축\n",
      "\n",
      "진도를 못 나간 여러 가지 요인 중 하나가 ‘입구 땅 문제’입니다. 입구 땅 문제란 이 아파트 주민들이 40여 년간 주 진입로로 쓰고 있는 도로 중 일부가 몇 년 전 ‘개인 땅’으로 변경됐는데, 재건축 사업의 인허가권을 쥔 성동구청에서는 재건축 공사 시작 전까지 ‘이 문제에 대한 조치 계획을 제출할 것’을 사업시행인가 ‘조건’으로 내걸었습니다.\n",
      "\n",
      "한 주민은 “당연히 단지 주민들의 공동 소유지라고 생각했던 주 출입로의 일부가 개인 땅이라는 것도 놀랍지만, 재건축 사업을 위해 터무니없이 비싼 가격으로 그 땅을 사는 방안이 논의되고 있다는 게 믿겨지지 않는다”고 말했습니다.\n",
      "\n",
      "주 출입로의 일부가 현재의 땅 주인에게 넘어간 과정은 이렇습니다. 주 출입로 중 일부 땅을 포함한 4개 필지(총 220여 평)가 이 아파트를 지은 중앙산업 소유로 남아 있었는데, 중앙산업이 도산하면서 땅 소유주는 국제자산신탁으로 바뀝니다.\n",
      "\n",
      "이후 한 개인이 2018년 6월 이 4필지의 새로운 땅 주인이 되는데, 이 아파트 재건축조합 설립인가(2018년 5월)가 난 직후입니다.\n",
      "\n",
      "서울동부지방법원 등기국에 따르면 이 4필지를 매입한 사람은 재계 순위 30위(2024년 공정위 기준) SM그룹(삼라마이다스그룹)의 창업주 2세인 우기원씨(32)이고 4필지 매입가격은 5억2770만원입니다.\n",
      "\n",
      "이른바 ‘재벌 2세’로 불리는 우씨는 이 땅을 왜 샀을까요. 아파트 옆 자투리땅에 조성된 가파른 경사의 비오톱(도심에 있는 인공적인 생물 서식 공간·개발이 거의 불가능한 땅)은 물론 아파트 주 출입로로 쓰이고 있는 도로 모두 땅주인 독자적으로 개발이나 활용이 어려운 땅입니다.\n",
      "\n",
      "이 아파트 주민들과 부동산 전문가들은 “재건축 사업이 구체화될 시점에 맞춰 독자적으로 활용할 수 없는 자투리땅들을 매입했다는 것은 알박기 목적이라고밖에 볼 수 없다”고 말합니다.\n",
      "\n",
      "이에 대해 SM그룹 측은 “정당한 입찰 절차를 거쳐 낙찰받은 부지라는 점을 강조한다”고 했습니다.\n",
      "\n",
      "5억에 산 땅으로 40억 이상 대출\n",
      "\n",
      "현재 이 땅들에는 2건의 근저당이 설정돼 있습니다. 우선 광주은행이 4억8000만원(2018년 8월)을, 이후 SM그룹 계열사 중 하나인 에스엠상선이 51억여원(2019년 4월)을 각각 근저당을 설정했습니다.\n",
      "\n",
      "근저당 설정할 때 통상 대출금액의 120%를 잡는 것을 고려할 때 우씨는 5억여원에 산 땅을 담보로 40억원 이상을 빌린 셈인데, 부동산 전문가들은 이에 대해 “몇 년을 두고 기획한 이중 알박기일 가능성이 크다”며 “고전적인 알박기와는 차원이 다르며 난다 긴다 하는 부동산 전문가들도 혀를 내두를 정도로 몇 수를 내다보고 기획된 것 같다”고 말했습니다.\n",
      "\n",
      "스토리 전개상 이에 대한 내용은 다음 편에 자세히 전해 드리고, 우선 대출 과정에서의 의문점들을 말씀드리겠습니다.\n",
      "\n",
      "감사보고서에 누락된 ‘특수관계인 간 거래’\n",
      "\n",
      "에스엠상선이 우씨의 땅에 대해 근저당을 설정한 직후 채무자는 우기원씨에서 주식회사 라도로 변경됩니다.\n",
      "\n",
      "특정 기업과 그 기업의 특수관계인 간 돈거래는 당연히 해당 기업의 감사보고서에 표시돼 있어야 하는데, 에스엠상선과 주식회사 라도 감사보고서 어디에도 이런 내용이 없습니다. 두 회사 모두 외부 회계감사법인이어서 독립된 외부 회계법인으로부터 의무적으로 회계감사를 받아야 합니다.\n",
      "\n",
      "모 회계법인의 파트너 공인회계사는 “회사 측에서 고의로 숨기거나 회사와 회계법인이 ‘한통속’이 되지 않는 한 있을 수 없는 감사보고서”라고 말합니다.\n",
      "\n",
      "이에 대해 SM그룹 측은 “개인 사안이나 개별 기업의 사안에 대한 문의를 그룹에서 확인해 드릴 수 없는 점 양해 부탁한다”고 전해 왔습니다.\n",
      "\n",
      "주식회사 라도는 우씨가 2014년 자본금 3억원으로 설립한 개인회사(설립 당시 지분 100% 보유)인데, 우씨가 한남하이츠 입구 땅 등을 매입한 2018년에는 190억원의 당기순이익을 올릴 정도로 급성장했습니다.\n",
      "\n",
      "큰 수익은 SM그룹 건설계열사의 시행(부동산 개발)업을 맡으면서 올린 것으로 재무제표에 나와 있습니다. 사업에 필요한 돈은 SM그룹 계열사로부터 수시로 빌렸습니다. 현재 주식회사 라도의 주식 가치는 수천억원대라고 합니다.\n",
      "\n",
      "SM그룹은 1988년 우오현 회장이 광주광역시에서 창업한 삼라건설을 모태로 해 M&A로 사세를 키운 기업입니다.\n",
      "\n",
      "(계속)\n",
      "\n",
      "\n",
      "\n",
      "석연찮은 부동산 인허가로 SM그룹의 자산이 증가한 사례는 이 뿐만이 아닙니다. 서울 강서구 마곡 사옥에서는 불법을 감추기 위해 직원들에게 가짜 명함을 주기도 했습니다. 아래 링크들을 통해 확인해보시면 깜짝 놀라실 겁니다.\n",
      "\n",
      "\n",
      "\n",
      "▶ 5억에 사놓고 200억에 판다…재벌 2세의 옥수동 알박기? 〈上〉\n",
      "\n",
      "https://www.joongang.co.kr/article/25283877\n",
      "\n",
      "▶ 알박기 아닌데 자투리땅 샀다? “이익에 관심없다”는 재벌 2세 〈下〉\n",
      "\n",
      "https://www.joongang.co.kr/article/25285526\n",
      "\n",
      "▶ ‘성매매 건물’ 1000억 띄운 회사, 이번엔 깜깜이 거래 미스터리\n",
      "\n",
      "https://www.joongang.co.kr/article/25287374\n",
      "\n",
      "▶ ‘성매매’에 망한 강남 그 건물…‘텅빈 방’이 1000억 올려줬다\n",
      "\n",
      "https://www.joongang.co.kr/article/25233294\n",
      "\n",
      "\n",
      "\n",
      "또 다른 '부동산 X파일' 이야기가 궁금하시다면?\n",
      "\n",
      "▶ 백현동 옹벽의 추악한 진실…“은혜 갚겠다” 기자 회유한 男\n",
      "\n",
      "https://www.joongang.co.kr/article/25282318\n",
      "\n",
      "▶ 2000억 강남땅 재앙이 됐다…‘컨테이너 노인’ 유족에 생긴 일\n",
      "\n",
      "https://www.joongang.co.kr/article/25243177\n",
      "\n",
      "▶ 규정 바꿔 383억 셀프 대출? 건설조합 넘버2 ‘이상한 행각\n",
      "\n",
      "https://www.joongang.co.kr/article/25280865\n",
      "\n",
      "▶ 이런 집주인, 어디 또 없다…120채 ‘강남 아파트왕’ 비밀\n",
      "\n",
      "https://www.joongang.co.kr/article/25271280\n"
     ]
    }
   ],
   "source": [
    "import requests\n",
    "from bs4 import BeautifulSoup\n",
    "from newspaper import Article\n",
    "\n",
    "code = requests.get('https://www.joongang.co.kr/money')\n",
    "html = BeautifulSoup(code.text, 'html.parser')\n",
    "title_list = html.select('ul.card_right_list.rank_list h2.headline > a')\n",
    "\n",
    "# 기사 제목 띄우기\n",
    "print('|| --- [중앙일보 경제 뉴스]')\n",
    "\n",
    "for index, title in enumerate(title_list):\n",
    "    print(f'|| --- {index + 1} - {title.text.strip()}')\n",
    "\n",
    "print('||')\n",
    "\n",
    "# 수집할 기사 선택\n",
    "user_choice = int(input('|| --- 확인할 뉴스를 선택하세요 :'))\n",
    "\n",
    "# 선택한 기사의 본문 링크 가져오기\n",
    "user_item = title_list[user_choice - 1]\n",
    "news_title = user_item.text\n",
    "news_link = user_item.attrs['href']\n",
    "\n",
    "# newspaper 모듈로 기사 본문 가공 및 출력\n",
    "article = Article(news_link, language='ko')\n",
    "article.download()\n",
    "article.parse()\n",
    "news_content = article.text\n",
    "\n",
    "print('└└\\n', news_content)"
   ]
  },
  {
   "cell_type": "markdown",
   "id": "8c25aa33-494b-41b7-9b90-fd721a66931f",
   "metadata": {},
   "source": [
    "---\n",
    "### 9.4.2 문서 요약 API 키 발급받기"
   ]
  },
  {
   "cell_type": "code",
   "execution_count": 14,
   "id": "8f2ad91b-71fd-4286-90ef-4ee3f4fef4d6",
   "metadata": {},
   "outputs": [],
   "source": [
    "# 리파지토리에 올리기 전에 반드시 빈 값으로 대체하기.\n",
    "client_id = ''\n",
    "client_secret = ''"
   ]
  },
  {
   "cell_type": "markdown",
   "id": "ca064297-0266-46f3-9cdd-e247e69ef74b",
   "metadata": {},
   "source": [
    "---\n",
    "### 9.4.3 뉴스 기사 요약하기"
   ]
  },
  {
   "cell_type": "code",
   "execution_count": 15,
   "id": "dfac81e7-cc7e-4085-81e1-a8a5dbd6e980",
   "metadata": {},
   "outputs": [
    {
     "name": "stdout",
     "output_type": "stream",
     "text": [
      "[문서 요약 결과]\n",
      "'알박기'란 개발사업이 추진되고 있는 곳의 일부 땅(사업에 꼭 필요한 땅)을 매입한 후 개발사업자에게 고가로 되파는 부동산 투기수법을 말함.\n",
      "입구 땅 문제란 이 아파트 주민들이 40여 년간 주 진입로로 쓰고 있는 도로 중 일부가 몇 년 전 '개인 땅'으로 변경됐는데, 재건축 사업의 인허가권을 쥔 성동구청에서는 재건축 공사 시작 전까지 '이 문제에 대한 조치 계획을 제출할 것'을 사업시행인가 '조건'으로 내걺.\n",
      "한 주민은 \"당연히 단지 주민들의 공동 소유지라고 생각했던 주 출입로의 일부가 개인 땅이라는 것도 놀랍지만, 재건축 사업을 위해 터무니없이 비싼 가격으로 그 땅을 사는 방안이 논의되고 있다는 게 믿겨지지 않는다\"고 말함.\n",
      "주 출입로의 일부가 현재의 땅 주인에게 넘어간 과정은 이럼.\n",
      "주 출입로 중 일부 땅을 포함한 4개 필지(총 220여 평)가 이 아파트를 지은 중앙산업 소유로 남아 있었는데, 중앙산업이 도산하면서 땅 소유주는 국제자산신탁으로 바뀜.\n",
      "이후 한 개인이 2018년 6월 이 4필지의 새로운 땅 주인이 되는데, 이 아파트 재건축조합 설립인가(2018년 5월)가 난 직후.\n"
     ]
    }
   ],
   "source": [
    "# news_content의 글자 수를 1900자로 자르기\n",
    "if len(news_content) >= 1900:\n",
    "    news_content = news_content[:1900]\n",
    "\n",
    "import json\n",
    "\n",
    "headers = {\n",
    "    \"X-NCP-APIGW-API-KEY-ID\": client_id,\n",
    "    \"X-NCP-APIGW-API-KEY\": client_secret,\n",
    "    \"Content-Type\": \"application/json\"\n",
    "}\n",
    "\n",
    "data = {\n",
    "    \"document\": {\n",
    "        \"title\": news_title,\n",
    "        \"content\": news_content\n",
    "    },\n",
    "    \"option\": {\n",
    "        \"language\": \"ko\",\n",
    "        \"model\": \"news\",\n",
    "        \"tone\": 3,\n",
    "        \"summaryCount\": 6\n",
    "    }\n",
    "}\n",
    "\n",
    "url = f\"https://naveropenapi.apigw.ntruss.com/text-summary/v1/summarize\"\n",
    "\n",
    "response = requests.post(url, data=json.dumps(data), headers=headers)\n",
    "response_dict = json.loads(response.text)\n",
    "\n",
    "print('[문서 요약 결과]')\n",
    "print(response_dict['summary'])"
   ]
  },
  {
   "cell_type": "markdown",
   "id": "3dca0a02-5007-447a-8caf-65b06e6aede3",
   "metadata": {},
   "source": [
    "---\n",
    "### 9.4.4 요약 결과를 음성으로 변환하기"
   ]
  },
  {
   "cell_type": "markdown",
   "id": "f5a21524-d182-4e2b-ada7-8c3ed76ec78a",
   "metadata": {},
   "source": [
    "### 실습 전 설치해야할 라이브러리 및 명령어\n",
    "```!pip install gtts==2.5.1```<br>\n",
    "```!pip install playsound==1.2.2```"
   ]
  },
  {
   "cell_type": "code",
   "execution_count": 19,
   "id": "1c99c65c-e1b9-4ca1-8bbc-6ef9b654a317",
   "metadata": {},
   "outputs": [],
   "source": [
    "from gtts import gTTS\n",
    "from playsound import playsound\n",
    "\n",
    "comment_to_voice = gTTS(text=response_dict['summary'], lang='ko')\n",
    "comment_to_voice.save('news.mp3')\n",
    "playsound('news.mp3')"
   ]
  },
  {
   "cell_type": "markdown",
   "id": "da177412-6f03-435f-9507-4862509c5d6c",
   "metadata": {},
   "source": [
    " "
   ]
  },
  {
   "cell_type": "markdown",
   "id": "bb81452f-427c-4b78-bc9c-e36749f47e66",
   "metadata": {},
   "source": [
    "---\n",
    "### 최종코드"
   ]
  },
  {
   "cell_type": "code",
   "execution_count": 22,
   "id": "08241dd6-f47e-4864-998a-a8fa793868a8",
   "metadata": {},
   "outputs": [
    {
     "name": "stdout",
     "output_type": "stream",
     "text": [
      "|| --- [중앙일보 경제 뉴스]\n",
      "|| --- 1 - 5억에 사놓고 200억에 판다…재벌 2세의 옥수동 알박기?\n",
      "|| --- 2 - 윤 대통령, 7일 대국민담화·기자회견…명태균·김여사 설명한다\n",
      "|| --- 3 - 백종원보다 입맛 좋았다…'새로' 대박낸 전자 혀의 비밀\n",
      "|| --- 4 - '모다모다 샴푸' 망한거 아냐? 100억 사옥 팔고 돌아왔다\n",
      "|| --- 5 - 공항에 뜬 거대한 은색 차…지드래곤, 국내 미출시 테슬라 탔다\n",
      "||\n"
     ]
    },
    {
     "name": "stdin",
     "output_type": "stream",
     "text": [
      "|| --- 확인할 뉴스를 선택하세요 : 5\n"
     ]
    },
    {
     "name": "stdout",
     "output_type": "stream",
     "text": [
      "└└\n",
      " 가수 지드래곤(36·본명 권지용)이 미국 테슬라의 전기 픽업트럭인 '사이버트럭'을 타고 이동하는 모습이 4일 포착됐다.\n",
      "\n",
      "지드래곤은 이날 오후 샤넬 '2024/25 크루즈 레플리카 쇼' 참석을 위해 인천국제공항을 통해 홍콩으로 출국했다. 지드래곤은 공항으로 오면서 국내 미출시 모델인 사이버트럭을 타고 와 언론의 카메라 플래시 세례를 받았다.\n",
      "\n",
      "사이버트럭은 지난해 11월 테슬라가 출시한 전기 픽업트럭으로, 방탄 기능과 함께 기하학적인 디자인으로 출시 당시 세계적인 주목을 받았다. 당시 테슬라는 사이버트럭이 스테인리스강 합금 소재로 만들어 총알도 견딜 수 있을 정도로 단단하다고 밝혔다. 또 5톤(t) 이상의 견인력을 갖고 있고, 포르쉐를 견인하면서도 포르쉐를 앞지를 수 있다고 홍보했다.\n",
      "\n",
      "지난달 23일(현지시간) 테슬라가 발표한 실적보고서에 따르면 테슬라는 \"사이버트럭이 3분기 미국에서 모델 Y와 모델 3에 이어 세 번째로 많이 팔린 전기차가 됐다\"고 밝혔다. 그러면서도 사이버트럭의 판매 수치는 공개하지 않았다.\n",
      "\n",
      "사이버트럭은 사전 예약 물량이 많아 한국의 출시 예정일은 아직 발표되지 않았다. 자동차 업계 등에 따르면 사이버트럭 가격은 6만990달러(약 8356만원)에서 9만9990달러(약 1억3696만원)로 형성돼있다.\n",
      "\n",
      "사이버트럭이 국내에서 판매되지 않아 지드래곤이 이날 타고 온 차량엔 임시 번호판이 붙어 있었다. 해당 차량이 홍보 등 다른 목적이 있는지나 지드래곤의 개인 소유인지는 알려지지 않았다.\n",
      "\n",
      "지드래곤은 지난달 30일 방영된 tvN '유 퀴즈 온 더 블럭'에 출연했을 땐 녹화장으로 오면서 가격이 수억 원대로 알려진 롤스로이스 팬텀을 타고 나타나 이목을 끌었다.\n",
      "\n",
      "한편 지드래곤은 지난달 31일 신곡 '파워'(POWER)를 발매했다. 이는 2017년 미니 음반 '권지용' 이후 7년 4개월 만에 내놓은 그의 솔로곡이다.\n",
      "\n",
      "[문서 요약 결과]\n",
      "가수 지드래곤(36·본명 권지용)이 미국 테슬라의 전기 픽업트럭인 '사이버트럭'을 타고 이동하는 모습이 4일 포착됨.\n",
      "지드래곤은 공항으로 오면서 국내 미출시 모델인 사이버트럭을 타고 와 언론의 카메라 플래시 세례를 받음.\n",
      "사이버트럭은 지난해 11월 테슬라가 출시한 전기 픽업트럭으로, 방탄 기능과 함께 기하학적인 디자인으로 출시 당시 세계적인 주목을 받음.\n",
      "당시 테슬라는 사이버트럭이 스테인리스강 합금 소재로 만들어 총알도 견딜 수 있을 정도로 단단하다고 밝힘.\n",
      "또 5톤(t) 이상의 견인력을 갖고 있고, 포르쉐를 견인하면서도 포르쉐를 앞지를 수 있다고 홍보함.\n",
      "지난달 23일(현지시간) 테슬라가 발표한 실적보고서에 따르면 테슬라는 \"사이버트럭이 3분기 미국에서 모델 Y와 모델 3에 이어 세 번째로 많이 팔린 전기차가 됐다\"고 밝힘.\n"
     ]
    }
   ],
   "source": [
    "import requests\n",
    "from bs4 import BeautifulSoup\n",
    "from newspaper import Article\n",
    "import json\n",
    "\n",
    "from gtts import gTTS\n",
    "from playsound import playsound\n",
    "\n",
    "code = requests.get('https://www.joongang.co.kr/money')\n",
    "html = BeautifulSoup(code.text, 'html.parser')\n",
    "title_list = html.select('ul.card_right_list.rank_list h2.headline > a')\n",
    "\n",
    "# 기사 제목 띄우기\n",
    "print('|| --- [중앙일보 경제 뉴스]')\n",
    "\n",
    "for index, title in enumerate(title_list):\n",
    "    print(f'|| --- {index + 1} - {title.text.strip()}')\n",
    "\n",
    "print('||')\n",
    "\n",
    "# 수집할 기사 선택\n",
    "user_choice = int(input('|| --- 확인할 뉴스를 선택하세요 :'))\n",
    "\n",
    "# 선택한 기사의 본문 링크 가져오기\n",
    "user_item = title_list[user_choice - 1]\n",
    "news_title = user_item.text\n",
    "news_link = user_item.attrs['href']\n",
    "\n",
    "# newspaper 모듈로 기사 본문 가공 및 출력\n",
    "article = Article(news_link, language='ko')\n",
    "article.download()\n",
    "article.parse()\n",
    "news_content = article.text\n",
    "\n",
    "print('└└\\n', news_content)\n",
    "\n",
    "# 리파지토리에 올리기 전에 반드시 빈 값으로 대체하기.\n",
    "client_id = ''\n",
    "client_secret = ''\n",
    "\n",
    "# news_content의 글자 수를 1900자로 자르기\n",
    "if len(news_content) >= 1900:\n",
    "    news_content = news_content[:1900]\n",
    "\n",
    "headers = {\n",
    "    \"X-NCP-APIGW-API-KEY-ID\": client_id,\n",
    "    \"X-NCP-APIGW-API-KEY\": client_secret,\n",
    "    \"Content-Type\": \"application/json\"\n",
    "}\n",
    "\n",
    "data = {\n",
    "    \"document\": {\n",
    "        \"title\": news_title,\n",
    "        \"content\": news_content\n",
    "    },\n",
    "    \"option\": {\n",
    "        \"language\": \"ko\",\n",
    "        \"model\": \"news\",\n",
    "        \"tone\": 3,\n",
    "        \"summaryCount\": 6\n",
    "    }\n",
    "}\n",
    "\n",
    "url = f\"https://naveropenapi.apigw.ntruss.com/text-summary/v1/summarize\"\n",
    "\n",
    "response = requests.post(url, data=json.dumps(data), headers=headers)\n",
    "response_dict = json.loads(response.text)\n",
    "\n",
    "print('\\n[문서 요약 결과]')\n",
    "print(response_dict['summary'])\n",
    "\n",
    "comment_to_voice = gTTS(text=response_dict['summary'], lang='ko')\n",
    "comment_to_voice.save('news.mp3')\n",
    "playsound('news.mp3')"
   ]
  }
 ],
 "metadata": {
  "kernelspec": {
   "display_name": "Python 3 (ipykernel)",
   "language": "python",
   "name": "python3"
  },
  "language_info": {
   "codemirror_mode": {
    "name": "ipython",
    "version": 3
   },
   "file_extension": ".py",
   "mimetype": "text/x-python",
   "name": "python",
   "nbconvert_exporter": "python",
   "pygments_lexer": "ipython3",
   "version": "3.12.4"
  }
 },
 "nbformat": 4,
 "nbformat_minor": 5
}
