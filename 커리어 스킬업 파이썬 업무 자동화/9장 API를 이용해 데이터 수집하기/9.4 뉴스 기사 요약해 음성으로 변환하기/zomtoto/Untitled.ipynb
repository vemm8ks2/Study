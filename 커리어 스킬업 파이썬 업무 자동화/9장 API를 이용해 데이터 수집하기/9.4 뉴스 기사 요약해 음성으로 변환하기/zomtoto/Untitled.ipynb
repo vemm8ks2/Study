{
 "cells": [
  {
   "cell_type": "code",
   "execution_count": null,
   "id": "35149155-4787-48dd-884e-94dbf8858b16",
   "metadata": {},
   "outputs": [],
   "source": [
    "# from newspaper import Article에서 오류가 뜰 경우\n",
    "# pip install lxml-html-clean"
   ]
  },
  {
   "cell_type": "code",
   "execution_count": 3,
   "id": "8e6eadca-d405-40df-99cc-e3953384c937",
   "metadata": {},
   "outputs": [
    {
     "name": "stdout",
     "output_type": "stream",
     "text": [
      "Requirement already satisfied: newspaper3k in c:\\users\\cad07\\anaconda3\\lib\\site-packages (0.2.8)\n",
      "Requirement already satisfied: beautifulsoup4>=4.4.1 in c:\\users\\cad07\\anaconda3\\lib\\site-packages (from newspaper3k) (4.12.3)\n",
      "Requirement already satisfied: Pillow>=3.3.0 in c:\\users\\cad07\\anaconda3\\lib\\site-packages (from newspaper3k) (10.3.0)\n",
      "Requirement already satisfied: PyYAML>=3.11 in c:\\users\\cad07\\anaconda3\\lib\\site-packages (from newspaper3k) (6.0.1)\n",
      "Requirement already satisfied: cssselect>=0.9.2 in c:\\users\\cad07\\anaconda3\\lib\\site-packages (from newspaper3k) (1.2.0)\n",
      "Requirement already satisfied: lxml>=3.6.0 in c:\\users\\cad07\\anaconda3\\lib\\site-packages (from newspaper3k) (5.2.1)\n",
      "Requirement already satisfied: nltk>=3.2.1 in c:\\users\\cad07\\anaconda3\\lib\\site-packages (from newspaper3k) (3.8.1)\n",
      "Requirement already satisfied: requests>=2.10.0 in c:\\users\\cad07\\anaconda3\\lib\\site-packages (from newspaper3k) (2.32.2)\n",
      "Requirement already satisfied: feedparser>=5.2.1 in c:\\users\\cad07\\anaconda3\\lib\\site-packages (from newspaper3k) (6.0.11)\n",
      "Requirement already satisfied: tldextract>=2.0.1 in c:\\users\\cad07\\anaconda3\\lib\\site-packages (from newspaper3k) (3.2.0)\n",
      "Requirement already satisfied: feedfinder2>=0.0.4 in c:\\users\\cad07\\anaconda3\\lib\\site-packages (from newspaper3k) (0.0.4)\n",
      "Requirement already satisfied: jieba3k>=0.35.1 in c:\\users\\cad07\\anaconda3\\lib\\site-packages (from newspaper3k) (0.35.1)\n",
      "Requirement already satisfied: python-dateutil>=2.5.3 in c:\\users\\cad07\\anaconda3\\lib\\site-packages (from newspaper3k) (2.9.0.post0)\n",
      "Requirement already satisfied: tinysegmenter==0.3 in c:\\users\\cad07\\anaconda3\\lib\\site-packages (from newspaper3k) (0.3)\n",
      "Requirement already satisfied: soupsieve>1.2 in c:\\users\\cad07\\anaconda3\\lib\\site-packages (from beautifulsoup4>=4.4.1->newspaper3k) (2.5)\n",
      "Requirement already satisfied: six in c:\\users\\cad07\\anaconda3\\lib\\site-packages (from feedfinder2>=0.0.4->newspaper3k) (1.16.0)\n",
      "Requirement already satisfied: sgmllib3k in c:\\users\\cad07\\anaconda3\\lib\\site-packages (from feedparser>=5.2.1->newspaper3k) (1.0.0)\n",
      "Requirement already satisfied: click in c:\\users\\cad07\\anaconda3\\lib\\site-packages (from nltk>=3.2.1->newspaper3k) (8.1.7)\n",
      "Requirement already satisfied: joblib in c:\\users\\cad07\\anaconda3\\lib\\site-packages (from nltk>=3.2.1->newspaper3k) (1.4.2)\n",
      "Requirement already satisfied: regex>=2021.8.3 in c:\\users\\cad07\\anaconda3\\lib\\site-packages (from nltk>=3.2.1->newspaper3k) (2023.10.3)\n",
      "Requirement already satisfied: tqdm in c:\\users\\cad07\\anaconda3\\lib\\site-packages (from nltk>=3.2.1->newspaper3k) (4.66.4)\n",
      "Requirement already satisfied: charset-normalizer<4,>=2 in c:\\users\\cad07\\anaconda3\\lib\\site-packages (from requests>=2.10.0->newspaper3k) (2.0.4)\n",
      "Requirement already satisfied: idna<4,>=2.5 in c:\\users\\cad07\\anaconda3\\lib\\site-packages (from requests>=2.10.0->newspaper3k) (3.7)\n",
      "Requirement already satisfied: urllib3<3,>=1.21.1 in c:\\users\\cad07\\anaconda3\\lib\\site-packages (from requests>=2.10.0->newspaper3k) (2.2.2)\n",
      "Requirement already satisfied: certifi>=2017.4.17 in c:\\users\\cad07\\anaconda3\\lib\\site-packages (from requests>=2.10.0->newspaper3k) (2024.8.30)\n",
      "Requirement already satisfied: requests-file>=1.4 in c:\\users\\cad07\\anaconda3\\lib\\site-packages (from tldextract>=2.0.1->newspaper3k) (1.5.1)\n",
      "Requirement already satisfied: filelock>=3.0.8 in c:\\users\\cad07\\anaconda3\\lib\\site-packages (from tldextract>=2.0.1->newspaper3k) (3.13.1)\n",
      "Requirement already satisfied: colorama in c:\\users\\cad07\\anaconda3\\lib\\site-packages (from click->nltk>=3.2.1->newspaper3k) (0.4.6)\n"
     ]
    }
   ],
   "source": [
    "!pip install newspaper3k\n",
    "from newspaper import Article"
   ]
  },
  {
   "cell_type": "code",
   "execution_count": 9,
   "id": "674714ad-573c-4078-99ae-d7a58a5744da",
   "metadata": {},
   "outputs": [
    {
     "name": "stdout",
     "output_type": "stream",
     "text": [
      "                         [중앙일보 경제 뉴스]                         \n",
      "1 - [속보] 4년5개월만에 '4만전자' 됐다…삼성전자 5거래일 연속 하락\n",
      "2 - ‘이들이 中 개구멍 노릇했다’ 트럼프 괘씸죄 걸린 서방 3국\n",
      "3 - “코인 위험? 생각 뒤집어라…이건 비트코인보다 더 뛴다” [트럼프를 준비하라 ④ 암호화폐]\n",
      "4 - “그 임원들, 술·담배 안 한다”…쿠팡 떠도는 ‘모르몬교’ 소문\n",
      "5 - 평균 연봉 1억3000만원…코인 불장에 '행복한 비명' 커진 이곳\n",
      "-----------------------------------------------------------------------\n"
     ]
    },
    {
     "name": "stdin",
     "output_type": "stream",
     "text": [
      "확인할 뉴스를 선택하세요 >>  1\n"
     ]
    },
    {
     "name": "stdout",
     "output_type": "stream",
     "text": [
      "삼성전자가 14일 4년5개월 만에 '4만전자'로 추락했다. 지난 5거래일간 주가가 13% 넘게 하락하면서 시가총액 300조원도 무너졌다.\n",
      "\n",
      "이날 삼성전자는 전일 대비 1.38% 내린 4만9900원으로 장을 마감했다. 이는 지난 2020년 6월 15일 종가 4만9900원과 같다.\n",
      "\n",
      "지난 7일 종가 5만7500원을 기록한 뒤 5거래일간 13.22% 하락한 끝에 심리적 지지선으로 여겨졌던 5만원 선마저 내줬다. 삼성전자 시가총액은 297조8921억원으로 300조원을 하회했다.\n",
      "\n",
      "주가는 장 초반 0.79% 약세로 5만200원까지 내린 뒤 이내 반등, 한때 2.37% 강세로 5만1800원을 기록하며 5만2000원대 회복을 넘봤다. 하지만 장 후반 들어 상승세가 약해졌고 마감 직전 매물이 쏟아지면서 5일 연속 하락세를 벗어나지 못했다.\n",
      "\n",
      "외국인은 이날도 삼성전자를 4772억원어치 대량 순매도하면서 주가를 끌어내렸다. 이들은 지난달 30일부터 이날까지 12거래일 연속 총 3조원 이상 삼성전자를 순매도했다. 저가매수에 나선 개인과 기관이 각각 3724억원, 773억원을 순매수했으나 주가 방어에는 역부족이었다.\n",
      "\n",
      "트럼프 2기 행정부가 중국에 대한 견제를 강화하고 글로벌 무역분쟁이 고조될 경우 반도체 산업 전반에 불확실성이 커질 것이라는 관측이 잇따른 결과로 전문가들은 분석했다.\n",
      "\n",
      "이날 SK하이닉스는 전일 대비 5.41% 급락한 176만3000원을 기록했다. 장중에는 6.12%까지 낙폭을 키우며 17만1700원까지 내리기도 했다. 한미반도체(-1.22%), 피에스케이홀딩스(-5.59%), 테크윙(-3.10%) 등 주요 반도체주들이 일제히 약세를 보였다.\n",
      "\n",
      "전일 뉴욕 증시에선 필라델피아반도체지수는 2.00% 하락했고, AMD와 텍사스인스트루먼츠, Arm홀딩스, 마이크론테크놀로지 등이 3% 넘게 떨어졌다.\n"
     ]
    }
   ],
   "source": [
    "import requests\n",
    "from bs4 import BeautifulSoup\n",
    "\n",
    "code = requests.get(\"https://www.joongang.co.kr/money\")\n",
    "soup = BeautifulSoup(code.text, \"html.parser\")\n",
    "title_list = soup.select(\"ul.card_right_list.rank_list h2.headline > a\")\n",
    "#기사 제목 띄우기\n",
    "print(\"                         [중앙일보 경제 뉴스]                         \")\n",
    "for index, title in enumerate(title_list):\n",
    "    print(f\"{index+1} - {title.text.strip()}\")\n",
    "print(\"-----------------------------------------------------------------------\")\n",
    "# 수집할 기사 선택\n",
    "user_choice = int(input(\"확인할 뉴스를 선택하세요 >> \"))\n",
    "# 선택할 기사의 본문 링크 가져오기\n",
    "user_item = title_list[user_choice-1]\n",
    "news_title = user_item.text\n",
    "news_link = user_item.attrs[\"href\"]\n",
    "# newspaper 모듈로 기사 본문 가공 및 출력\n",
    "article = Article(news_link, language='ko')\n",
    "article.download()\n",
    "article.parse()\n",
    "news_content= article.text\n",
    "print(news_content)"
   ]
  },
  {
   "cell_type": "code",
   "execution_count": 7,
   "id": "79e4debe-f3c9-4a63-8276-c51d12d90ff0",
   "metadata": {},
   "outputs": [
    {
     "name": "stdout",
     "output_type": "stream",
     "text": [
      "                         [중앙일보 경제 뉴스]                         \n",
      "1 - [속보] 4년5개월만에 '4만전자' 됐다…삼성전자 5거래일 연속 하락\n",
      "2 - ‘이들이 中 개구멍 노릇했다’ 트럼프 괘씸죄 걸린 서방 3국\n",
      "3 - “코인 위험? 생각 뒤집어라…이건 비트코인보다 더 뛴다” [트럼프를 준비하라 ④ 암호화폐]\n",
      "4 - “그 임원들, 술·담배 안 한다”…쿠팡 떠도는 ‘모르몬교’ 소문\n",
      "5 - 평균 연봉 1억3000만원…코인 불장에 '행복한 비명' 커진 이곳\n",
      "-----------------------------------------------------------------------\n"
     ]
    },
    {
     "name": "stdin",
     "output_type": "stream",
     "text": [
      "확인할 뉴스를 선택하세요 >>  1\n"
     ]
    },
    {
     "name": "stdout",
     "output_type": "stream",
     "text": [
      "삼성전자가 14일 4년5개월 만에 '4만전자'로 추락했다. 지난 5거래일간 주가가 13% 넘게 하락하면서 시가총액 300조원도 무너졌다.\n",
      "\n",
      "이날 삼성전자는 전일 대비 1.38% 내린 4만9900원으로 장을 마감했다. 이는 지난 2020년 6월 15일 종가 4만9900원과 같다.\n",
      "\n",
      "지난 7일 종가 5만7500원을 기록한 뒤 5거래일간 13.22% 하락한 끝에 심리적 지지선으로 여겨졌던 5만원 선마저 내줬다. 삼성전자 시가총액은 297조8921억원으로 300조원을 하회했다.\n",
      "\n",
      "주가는 장 초반 0.79% 약세로 5만200원까지 내린 뒤 이내 반등, 한때 2.37% 강세로 5만1800원을 기록하며 5만2000원대 회복을 넘봤다. 하지만 장 후반 들어 상승세가 약해졌고 마감 직전 매물이 쏟아지면서 5일 연속 하락세를 벗어나지 못했다.\n",
      "\n",
      "외국인은 이날도 삼성전자를 4772억원어치 대량 순매도하면서 주가를 끌어내렸다. 이들은 지난달 30일부터 이날까지 12거래일 연속 총 3조원 이상 삼성전자를 순매도했다. 저가매수에 나선 개인과 기관이 각각 3724억원, 773억원을 순매수했으나 주가 방어에는 역부족이었다.\n",
      "\n",
      "트럼프 2기 행정부가 중국에 대한 견제를 강화하고 글로벌 무역분쟁이 고조될 경우 반도체 산업 전반에 불확실성이 커질 것이라는 관측이 잇따른 결과로 전문가들은 분석했다.\n",
      "\n",
      "이날 SK하이닉스는 전일 대비 5.41% 급락한 176만3000원을 기록했다. 장중에는 6.12%까지 낙폭을 키우며 17만1700원까지 내리기도 했다. 한미반도체(-1.22%), 피에스케이홀딩스(-5.59%), 테크윙(-3.10%) 등 주요 반도체주들이 일제히 약세를 보였다.\n",
      "\n",
      "전일 뉴욕 증시에선 필라델피아반도체지수는 2.00% 하락했고, AMD와 텍사스인스트루먼츠, Arm홀딩스, 마이크론테크놀로지 등이 3% 넘게 떨어졌다.\n",
      "------------------------------------------------\n",
      "[문장 요약 결과]\n",
      "삼성전자가 14일 4년5개월 만에 '4만전자'로 추락했습니다.\n",
      "지난 5거래일간 주가가 13% 넘게 하락하면서 시가총액 300조원도 무너졌습니다.\n",
      "이날 삼성전자는 전일 대비 1.38% 내린 4만9900원으로 장을 마감했습니다.\n"
     ]
    }
   ],
   "source": [
    "import json\n",
    "import requests\n",
    "from bs4 import BeautifulSoup\n",
    "\n",
    "code = requests.get(\"https://www.joongang.co.kr/money\")\n",
    "soup = BeautifulSoup(code.text, \"html.parser\")\n",
    "title_list = soup.select(\"ul.card_right_list.rank_list h2.headline > a\")\n",
    "#기사 제목 띄우기\n",
    "print(\"                         [중앙일보 경제 뉴스]                         \")\n",
    "for index, title in enumerate(title_list):\n",
    "    print(f\"{index+1} - {title.text.strip()}\")\n",
    "print(\"-----------------------------------------------------------------------\")\n",
    "# 수집할 기사 선택\n",
    "user_choice = int(input(\"확인할 뉴스를 선택하세요 >> \"))\n",
    "# 선택할 기사의 본문 링크 가져오기\n",
    "user_item = title_list[user_choice-1]\n",
    "news_title = user_item.text\n",
    "news_link = user_item.attrs[\"href\"]\n",
    "# newspaper 모듈로 기사 본문 가공 및 출력\n",
    "article = Article(news_link, language='ko')\n",
    "article.download()\n",
    "article.parse()\n",
    "news_content= article.text\n",
    "print(news_content)\n",
    "# news_content의 글자 수를 1900자로 자르기\n",
    "if len(news_content) >= 1900:\n",
    "    news_content = new_content[:1900]\n",
    "client_id = \"여기에 client id 넣기\"\n",
    "client_secret = \"여기에 client secret 넣기\"\n",
    "\n",
    "headers ={\n",
    "    \"X-NCP-APIGW-API-KEY-ID\": client_id,\n",
    "    \"X-NCP-APIGW-API-KEY\" : client_secret,\n",
    "    \"Content-Type\" : \"application/json\"\n",
    "}\n",
    "data = {\n",
    "    \"document\": {\n",
    "        \"title\":news_title,\n",
    "        \"content\": news_content\n",
    "    },\n",
    "    \"option\":{\n",
    "        \"language\" : \"ko\",\n",
    "        \"model\":\"news\",\n",
    "        \"tone\":2,\n",
    "        \"summaryCount\":3\n",
    "    }\n",
    "}\n",
    "url = \"https://naveropenapi.apigw.ntruss.com/text-summary/v1/summarize\"\n",
    "response = requests.post(url, data=json.dumps(data),headers=headers)\n",
    "response_dict = json.loads(response.text)\n",
    "print(\"------------------------------------------------\")\n",
    "print(\"[문장 요약 결과]\")\n",
    "print(response_dict[\"summary\"])"
   ]
  },
  {
   "cell_type": "code",
   "execution_count": 11,
   "id": "226c6eb5-8084-4487-b585-c4e866cf1ec3",
   "metadata": {},
   "outputs": [
    {
     "name": "stdout",
     "output_type": "stream",
     "text": [
      "                         [중앙일보 경제 뉴스]                         \n",
      "1 - [속보] 4년5개월만에 '4만전자' 됐다…삼성전자 5거래일 연속 하락\n",
      "2 - ‘이들이 中 개구멍 노릇했다’ 트럼프 괘씸죄 걸린 서방 3국\n",
      "3 - “코인 위험? 생각 뒤집어라…이건 비트코인보다 더 뛴다” [트럼프를 준비하라 ④ 암호화폐]\n",
      "4 - “그 임원들, 술·담배 안 한다”…쿠팡 떠도는 ‘모르몬교’ 소문\n",
      "5 - 평균 연봉 1억3000만원…코인 불장에 '행복한 비명' 커진 이곳\n",
      "-----------------------------------------------------------------------\n"
     ]
    },
    {
     "name": "stdin",
     "output_type": "stream",
     "text": [
      "확인할 뉴스를 선택하세요 >>  1\n"
     ]
    },
    {
     "name": "stdout",
     "output_type": "stream",
     "text": [
      "삼성전자가 14일 4년5개월 만에 '4만전자'로 추락했다. 지난 5거래일간 주가가 13% 넘게 하락하면서 시가총액 300조원도 무너졌다.\n",
      "\n",
      "이날 삼성전자는 전일 대비 1.38% 내린 4만9900원으로 장을 마감했다. 이는 지난 2020년 6월 15일 종가 4만9900원과 같다.\n",
      "\n",
      "지난 7일 종가 5만7500원을 기록한 뒤 5거래일간 13.22% 하락한 끝에 심리적 지지선으로 여겨졌던 5만원 선마저 내줬다. 삼성전자 시가총액은 297조8921억원으로 300조원을 하회했다.\n",
      "\n",
      "주가는 장 초반 0.79% 약세로 5만200원까지 내린 뒤 이내 반등, 한때 2.37% 강세로 5만1800원을 기록하며 5만2000원대 회복을 넘봤다. 하지만 장 후반 들어 상승세가 약해졌고 마감 직전 매물이 쏟아지면서 5일 연속 하락세를 벗어나지 못했다.\n",
      "\n",
      "외국인은 이날도 삼성전자를 4772억원어치 대량 순매도하면서 주가를 끌어내렸다. 이들은 지난달 30일부터 이날까지 12거래일 연속 총 3조원 이상 삼성전자를 순매도했다. 저가매수에 나선 개인과 기관이 각각 3724억원, 773억원을 순매수했으나 주가 방어에는 역부족이었다.\n",
      "\n",
      "트럼프 2기 행정부가 중국에 대한 견제를 강화하고 글로벌 무역분쟁이 고조될 경우 반도체 산업 전반에 불확실성이 커질 것이라는 관측이 잇따른 결과로 전문가들은 분석했다.\n",
      "\n",
      "이날 SK하이닉스는 전일 대비 5.41% 급락한 176만3000원을 기록했다. 장중에는 6.12%까지 낙폭을 키우며 17만1700원까지 내리기도 했다. 한미반도체(-1.22%), 피에스케이홀딩스(-5.59%), 테크윙(-3.10%) 등 주요 반도체주들이 일제히 약세를 보였다.\n",
      "\n",
      "전일 뉴욕 증시에선 필라델피아반도체지수는 2.00% 하락했고, AMD와 텍사스인스트루먼츠, Arm홀딩스, 마이크론테크놀로지 등이 3% 넘게 떨어졌다.\n",
      "------------------------------------------------\n",
      "[문장 요약 결과]\n",
      "삼성전자가 14일 4년5개월 만에 '4만전자'로 추락함.\n",
      "지난 5거래일간 주가가 13% 넘게 하락하면서 시가총액 300조원도 무너짐.\n",
      "이날 삼성전자는 전일 대비 1.38% 내린 4만9900원으로 장을 마감함.\n",
      "이는 지난 2020년 6월 15일 종가 4만9900원과 같음.\n",
      "지난 7일 종가 5만7500원을 기록한 뒤 5거래일간 13.22% 하락한 끝에 심리적 지지선으로 여겨졌던 5만원 선마저 내줌.\n",
      "삼성전자 시가총액은 297조8921억원으로 300조원을 하회함.\n"
     ]
    }
   ],
   "source": [
    "import json\n",
    "import requests\n",
    "from bs4 import BeautifulSoup\n",
    "\n",
    "code = requests.get(\"https://www.joongang.co.kr/money\")\n",
    "soup = BeautifulSoup(code.text, \"html.parser\")\n",
    "title_list = soup.select(\"ul.card_right_list.rank_list h2.headline > a\")\n",
    "#기사 제목 띄우기\n",
    "print(\"                         [중앙일보 경제 뉴스]                         \")\n",
    "for index, title in enumerate(title_list):\n",
    "    print(f\"{index+1} - {title.text.strip()}\")\n",
    "print(\"-----------------------------------------------------------------------\")\n",
    "# 수집할 기사 선택\n",
    "user_choice = int(input(\"확인할 뉴스를 선택하세요 >> \"))\n",
    "# 선택할 기사의 본문 링크 가져오기\n",
    "user_item = title_list[user_choice-1]\n",
    "news_title = user_item.text\n",
    "news_link = user_item.attrs[\"href\"]\n",
    "# newspaper 모듈로 기사 본문 가공 및 출력\n",
    "article = Article(news_link, language='ko')\n",
    "article.download()\n",
    "article.parse()\n",
    "news_content= article.text\n",
    "print(news_content)\n",
    "# news_content의 글자 수를 1900자로 자르기\n",
    "if len(news_content) >= 1900:\n",
    "    news_content = new_content[:1900]\n",
    "client_id = \"여기에 client id 넣기\"\n",
    "client_secret = \"여기에 client secret 넣기\"\n",
    "\n",
    "headers ={\n",
    "    \"X-NCP-APIGW-API-KEY-ID\": client_id,\n",
    "    \"X-NCP-APIGW-API-KEY\" : client_secret,\n",
    "    \"Content-Type\" : \"application/json\"\n",
    "}\n",
    "data = {\n",
    "    \"document\": {\n",
    "        \"title\":news_title,\n",
    "        \"content\": news_content\n",
    "    },\n",
    "    \"option\":{\n",
    "        \"language\" : \"ko\",\n",
    "        \"model\":\"news\",\n",
    "        \"tone\":3,\n",
    "        \"summaryCount\":6\n",
    "    }\n",
    "}\n",
    "url = \"https://naveropenapi.apigw.ntruss.com/text-summary/v1/summarize\"\n",
    "response = requests.post(url, data=json.dumps(data),headers=headers)\n",
    "response_dict = json.loads(response.text)\n",
    "print(\"------------------------------------------------\")\n",
    "print(\"[문장 요약 결과]\")\n",
    "print(response_dict[\"summary\"])"
   ]
  },
  {
   "cell_type": "code",
   "execution_count": 19,
   "id": "917cedf4-6d80-404e-ae7b-c4eca6f04ada",
   "metadata": {},
   "outputs": [
    {
     "name": "stdout",
     "output_type": "stream",
     "text": [
      "Collecting gttsNote: you may need to restart the kernel to use updated packages.\n",
      "\n",
      "  Downloading gTTS-2.5.4-py3-none-any.whl.metadata (4.1 kB)\n",
      "Requirement already satisfied: requests<3,>=2.27 in c:\\users\\cad07\\anaconda3\\lib\\site-packages (from gtts) (2.32.2)\n",
      "Requirement already satisfied: click<8.2,>=7.1 in c:\\users\\cad07\\anaconda3\\lib\\site-packages (from gtts) (8.1.7)\n",
      "Requirement already satisfied: colorama in c:\\users\\cad07\\anaconda3\\lib\\site-packages (from click<8.2,>=7.1->gtts) (0.4.6)\n",
      "Requirement already satisfied: charset-normalizer<4,>=2 in c:\\users\\cad07\\anaconda3\\lib\\site-packages (from requests<3,>=2.27->gtts) (2.0.4)\n",
      "Requirement already satisfied: idna<4,>=2.5 in c:\\users\\cad07\\anaconda3\\lib\\site-packages (from requests<3,>=2.27->gtts) (3.7)\n",
      "Requirement already satisfied: urllib3<3,>=1.21.1 in c:\\users\\cad07\\anaconda3\\lib\\site-packages (from requests<3,>=2.27->gtts) (2.2.2)\n",
      "Requirement already satisfied: certifi>=2017.4.17 in c:\\users\\cad07\\anaconda3\\lib\\site-packages (from requests<3,>=2.27->gtts) (2024.8.30)\n",
      "Downloading gTTS-2.5.4-py3-none-any.whl (29 kB)\n",
      "Installing collected packages: gtts\n",
      "Successfully installed gtts-2.5.4\n"
     ]
    }
   ],
   "source": [
    "pip install gtts"
   ]
  },
  {
   "cell_type": "code",
   "execution_count": 32,
   "id": "bb81f61d-d50d-42ca-a8f7-fb63b8e16a4f",
   "metadata": {},
   "outputs": [
    {
     "name": "stdout",
     "output_type": "stream",
     "text": [
      "Collecting playsound==1.2.2\n",
      "  Downloading playsound-1.2.2-py2.py3-none-any.whl.metadata (3.3 kB)\n",
      "Downloading playsound-1.2.2-py2.py3-none-any.whl (6.0 kB)\n",
      "Installing collected packages: playsound\n",
      "  Attempting uninstall: playsound\n",
      "    Found existing installation: playsound 1.3.0\n",
      "    Uninstalling playsound-1.3.0:\n",
      "      Successfully uninstalled playsound-1.3.0\n",
      "Successfully installed playsound-1.2.2\n",
      "Note: you may need to restart the kernel to use updated packages.\n"
     ]
    }
   ],
   "source": [
    "pip install playsound==1.2.2"
   ]
  },
  {
   "cell_type": "code",
   "execution_count": 33,
   "id": "6ba750e6-18a9-42b5-8627-788092da1ac2",
   "metadata": {},
   "outputs": [
    {
     "name": "stdout",
     "output_type": "stream",
     "text": [
      "                         [중앙일보 경제 뉴스]                         \n",
      "1 - [속보] 4년5개월만에 '4만전자' 됐다…삼성전자 5거래일 연속 하락\n",
      "2 - ‘이들이 中 개구멍 노릇했다’ 트럼프 괘씸죄 걸린 서방 3국\n",
      "3 - “코인 위험? 생각 뒤집어라…이건 비트코인보다 더 뛴다” [트럼프를 준비하라 ④ 암호화폐]\n",
      "4 - “그 임원들, 술·담배 안 한다”…쿠팡 떠도는 ‘모르몬교’ 소문\n",
      "5 - 평균 연봉 1억3000만원…코인 불장에 '행복한 비명' 커진 이곳\n",
      "-----------------------------------------------------------------------\n"
     ]
    },
    {
     "name": "stdin",
     "output_type": "stream",
     "text": [
      "확인할 뉴스를 선택하세요 >>  1\n"
     ]
    },
    {
     "name": "stdout",
     "output_type": "stream",
     "text": [
      "삼성전자가 14일 4년5개월 만에 '4만전자'로 추락했다. 지난 5거래일간 주가가 13% 넘게 하락하면서 시가총액 300조원도 무너졌다.\n",
      "\n",
      "이날 삼성전자는 전일 대비 1.38% 내린 4만9900원으로 장을 마감했다. 이는 지난 2020년 6월 15일 종가 4만9900원과 같다.\n",
      "\n",
      "지난 7일 종가 5만7500원을 기록한 뒤 5거래일간 13.22% 하락한 끝에 심리적 지지선으로 여겨졌던 5만원 선마저 내줬다. 삼성전자 시가총액은 297조8921억원으로 300조원을 하회했다.\n",
      "\n",
      "주가는 장 초반 0.79% 약세로 5만200원까지 내린 뒤 이내 반등, 한때 2.37% 강세로 5만1800원을 기록하며 5만2000원대 회복을 넘봤다. 하지만 장 후반 들어 상승세가 약해졌고 마감 직전 매물이 쏟아지면서 5일 연속 하락세를 벗어나지 못했다.\n",
      "\n",
      "외국인은 이날도 삼성전자를 4772억원어치 대량 순매도하면서 주가를 끌어내렸다. 이들은 지난달 30일부터 이날까지 12거래일 연속 총 3조원 이상 삼성전자를 순매도했다. 저가매수에 나선 개인과 기관이 각각 3724억원, 773억원을 순매수했으나 주가 방어에는 역부족이었다.\n",
      "\n",
      "트럼프 2기 행정부가 중국에 대한 견제를 강화하고 글로벌 무역분쟁이 고조될 경우 반도체 산업 전반에 불확실성이 커질 것이라는 관측이 잇따른 결과로 전문가들은 분석했다.\n",
      "\n",
      "이날 SK하이닉스는 전일 대비 5.41% 급락한 176만3000원을 기록했다. 장중에는 6.12%까지 낙폭을 키우며 17만1700원까지 내리기도 했다. 한미반도체(-1.22%), 피에스케이홀딩스(-5.59%), 테크윙(-3.10%) 등 주요 반도체주들이 일제히 약세를 보였다.\n",
      "\n",
      "전일 뉴욕 증시에선 필라델피아반도체지수는 2.00% 하락했고, AMD와 텍사스인스트루먼츠, Arm홀딩스, 마이크론테크놀로지 등이 3% 넘게 떨어졌다.\n",
      "------------------------------------------------\n",
      "[문장 요약 결과]\n",
      "삼성전자가 14일 4년5개월 만에 '4만전자'로 추락함.\n",
      "지난 5거래일간 주가가 13% 넘게 하락하면서 시가총액 300조원도 무너짐.\n",
      "이날 삼성전자는 전일 대비 1.38% 내린 4만9900원으로 장을 마감함.\n",
      "이는 지난 2020년 6월 15일 종가 4만9900원과 같음.\n",
      "지난 7일 종가 5만7500원을 기록한 뒤 5거래일간 13.22% 하락한 끝에 심리적 지지선으로 여겨졌던 5만원 선마저 내줌.\n",
      "삼성전자 시가총액은 297조8921억원으로 300조원을 하회함.\n"
     ]
    },
    {
     "name": "stderr",
     "output_type": "stream",
     "text": [
      "\n",
      "    Error 277 for command:\n",
      "        open news.mp3\n",
      "    MCI를 초기화하는 데 문제가 발생했습니다.\n",
      "\n",
      "    Error 263 for command:\n",
      "        close news.mp3\n",
      "    지정한 장치가 열려 있지 않거나 MCI에서 인식되지 않습니다.\n",
      "Failed to close the file: news.mp3\n"
     ]
    },
    {
     "ename": "PlaysoundException",
     "evalue": "\n    Error 277 for command:\n        open news.mp3\n    MCI를 초기화하는 데 문제가 발생했습니다.",
     "output_type": "error",
     "traceback": [
      "\u001b[1;31m---------------------------------------------------------------------------\u001b[0m",
      "\u001b[1;31mPlaysoundException\u001b[0m                        Traceback (most recent call last)",
      "Cell \u001b[1;32mIn[33], line 58\u001b[0m\n\u001b[0;32m     56\u001b[0m comment_to_voice \u001b[38;5;241m=\u001b[39m gTTS(text\u001b[38;5;241m=\u001b[39mresponse_dict[\u001b[38;5;124m\"\u001b[39m\u001b[38;5;124msummary\u001b[39m\u001b[38;5;124m\"\u001b[39m],lang\u001b[38;5;241m=\u001b[39m\u001b[38;5;124m\"\u001b[39m\u001b[38;5;124mko\u001b[39m\u001b[38;5;124m\"\u001b[39m)\n\u001b[0;32m     57\u001b[0m comment_to_voice\u001b[38;5;241m.\u001b[39msave(\u001b[38;5;124m\"\u001b[39m\u001b[38;5;124mnews.mp3\u001b[39m\u001b[38;5;124m\"\u001b[39m)\n\u001b[1;32m---> 58\u001b[0m playsound(\u001b[38;5;124m\"\u001b[39m\u001b[38;5;124mnews.mp3\u001b[39m\u001b[38;5;124m\"\u001b[39m)\n",
      "File \u001b[1;32m~\\anaconda3\\Lib\\site-packages\\playsound.py:72\u001b[0m, in \u001b[0;36m_playsoundWin\u001b[1;34m(sound, block)\u001b[0m\n\u001b[0;32m     70\u001b[0m \u001b[38;5;28;01mtry\u001b[39;00m:\n\u001b[0;32m     71\u001b[0m     logger\u001b[38;5;241m.\u001b[39mdebug(\u001b[38;5;124m'\u001b[39m\u001b[38;5;124mStarting\u001b[39m\u001b[38;5;124m'\u001b[39m)\n\u001b[1;32m---> 72\u001b[0m     winCommand(\u001b[38;5;124mu\u001b[39m\u001b[38;5;124m'\u001b[39m\u001b[38;5;124mopen \u001b[39m\u001b[38;5;132;01m{}\u001b[39;00m\u001b[38;5;124m'\u001b[39m\u001b[38;5;241m.\u001b[39mformat(sound))\n\u001b[0;32m     73\u001b[0m     winCommand(\u001b[38;5;124mu\u001b[39m\u001b[38;5;124m'\u001b[39m\u001b[38;5;124mplay \u001b[39m\u001b[38;5;132;01m{}\u001b[39;00m\u001b[38;5;132;01m{}\u001b[39;00m\u001b[38;5;124m'\u001b[39m\u001b[38;5;241m.\u001b[39mformat(sound, \u001b[38;5;124m'\u001b[39m\u001b[38;5;124m wait\u001b[39m\u001b[38;5;124m'\u001b[39m \u001b[38;5;28;01mif\u001b[39;00m block \u001b[38;5;28;01melse\u001b[39;00m \u001b[38;5;124m'\u001b[39m\u001b[38;5;124m'\u001b[39m))\n\u001b[0;32m     74\u001b[0m     logger\u001b[38;5;241m.\u001b[39mdebug(\u001b[38;5;124m'\u001b[39m\u001b[38;5;124mReturning\u001b[39m\u001b[38;5;124m'\u001b[39m)\n",
      "File \u001b[1;32m~\\anaconda3\\Lib\\site-packages\\playsound.py:64\u001b[0m, in \u001b[0;36m_playsoundWin.<locals>.winCommand\u001b[1;34m(*command)\u001b[0m\n\u001b[0;32m     60\u001b[0m     exceptionMessage \u001b[38;5;241m=\u001b[39m (\u001b[38;5;124m'\u001b[39m\u001b[38;5;130;01m\\n\u001b[39;00m\u001b[38;5;124m    Error \u001b[39m\u001b[38;5;124m'\u001b[39m \u001b[38;5;241m+\u001b[39m \u001b[38;5;28mstr\u001b[39m(errorCode) \u001b[38;5;241m+\u001b[39m \u001b[38;5;124m'\u001b[39m\u001b[38;5;124m for command:\u001b[39m\u001b[38;5;124m'\u001b[39m\n\u001b[0;32m     61\u001b[0m                         \u001b[38;5;124m'\u001b[39m\u001b[38;5;130;01m\\n\u001b[39;00m\u001b[38;5;124m        \u001b[39m\u001b[38;5;124m'\u001b[39m \u001b[38;5;241m+\u001b[39m command\u001b[38;5;241m.\u001b[39mdecode(\u001b[38;5;124m'\u001b[39m\u001b[38;5;124mutf-16\u001b[39m\u001b[38;5;124m'\u001b[39m) \u001b[38;5;241m+\u001b[39m\n\u001b[0;32m     62\u001b[0m                         \u001b[38;5;124m'\u001b[39m\u001b[38;5;130;01m\\n\u001b[39;00m\u001b[38;5;124m    \u001b[39m\u001b[38;5;124m'\u001b[39m \u001b[38;5;241m+\u001b[39m errorBuffer\u001b[38;5;241m.\u001b[39mraw\u001b[38;5;241m.\u001b[39mdecode(\u001b[38;5;124m'\u001b[39m\u001b[38;5;124mutf-16\u001b[39m\u001b[38;5;124m'\u001b[39m)\u001b[38;5;241m.\u001b[39mrstrip(\u001b[38;5;124m'\u001b[39m\u001b[38;5;130;01m\\0\u001b[39;00m\u001b[38;5;124m'\u001b[39m))\n\u001b[0;32m     63\u001b[0m     logger\u001b[38;5;241m.\u001b[39merror(exceptionMessage)\n\u001b[1;32m---> 64\u001b[0m     \u001b[38;5;28;01mraise\u001b[39;00m PlaysoundException(exceptionMessage)\n\u001b[0;32m     65\u001b[0m \u001b[38;5;28;01mreturn\u001b[39;00m buf\u001b[38;5;241m.\u001b[39mvalue\n",
      "\u001b[1;31mPlaysoundException\u001b[0m: \n    Error 277 for command:\n        open news.mp3\n    MCI를 초기화하는 데 문제가 발생했습니다."
     ]
    }
   ],
   "source": [
    "import json\n",
    "import requests\n",
    "from bs4 import BeautifulSoup\n",
    "from gtts import gTTS\n",
    "from playsound import playsound\n",
    "\n",
    "code = requests.get(\"https://www.joongang.co.kr/money\")\n",
    "soup = BeautifulSoup(code.text, \"html.parser\")\n",
    "title_list = soup.select(\"ul.card_right_list.rank_list h2.headline > a\")\n",
    "#기사 제목 띄우기\n",
    "print(\"                         [중앙일보 경제 뉴스]                         \")\n",
    "for index, title in enumerate(title_list):\n",
    "    print(f\"{index+1} - {title.text.strip()}\")\n",
    "print(\"-----------------------------------------------------------------------\")\n",
    "# 수집할 기사 선택\n",
    "user_choice = int(input(\"확인할 뉴스를 선택하세요 >> \"))\n",
    "# 선택할 기사의 본문 링크 가져오기\n",
    "user_item = title_list[user_choice-1]\n",
    "news_title = user_item.text\n",
    "news_link = user_item.attrs[\"href\"]\n",
    "# newspaper 모듈로 기사 본문 가공 및 출력\n",
    "article = Article(news_link, language='ko')\n",
    "article.download()\n",
    "article.parse()\n",
    "news_content= article.text\n",
    "print(news_content)\n",
    "# news_content의 글자 수를 1900자로 자르기\n",
    "if len(news_content) >= 1900:\n",
    "    news_content = new_content[:1900]\n",
    "client_id = \"여기에 client id 넣기\"\n",
    "client_secret = \"여기에 client secret 넣기\"\n",
    "\n",
    "headers ={\n",
    "    \"X-NCP-APIGW-API-KEY-ID\": client_id,\n",
    "    \"X-NCP-APIGW-API-KEY\" : client_secret,\n",
    "    \"Content-Type\" : \"application/json\"\n",
    "}\n",
    "data = {\n",
    "    \"document\": {\n",
    "        \"title\":news_title,\n",
    "        \"content\": news_content\n",
    "    },\n",
    "    \"option\":{\n",
    "        \"language\" : \"ko\",\n",
    "        \"model\":\"news\",\n",
    "        \"tone\":3,\n",
    "        \"summaryCount\":6\n",
    "    }\n",
    "}\n",
    "url = \"https://naveropenapi.apigw.ntruss.com/text-summary/v1/summarize\"\n",
    "response = requests.post(url, data=json.dumps(data),headers=headers)\n",
    "response_dict = json.loads(response.text)\n",
    "print(\"------------------------------------------------\")\n",
    "print(\"[문장 요약 결과]\")\n",
    "print(response_dict[\"summary\"])\n",
    "comment_to_voice = gTTS(text=response_dict[\"summary\"],lang=\"ko\")\n",
    "comment_to_voice.save(\"news.mp3\")\n",
    "playsound(\"news.mp3\")"
   ]
  },
  {
   "cell_type": "markdown",
   "id": "54eb66a5-3879-419a-9437-a2466ff28b9a",
   "metadata": {},
   "source": [
    "## 1분 퀴즈 풀어보기[p.337]\n",
    "\n",
    "### 3. 앞에서 실습한 코드에 대한 설명 중 옳지 않은 것을 고르세요.\n",
    "\n",
    "1. newspaper는 뉴스 기사를 크롤링하고 기사 본문 내용을 가공하는 모듈이다.\n",
    "\n",
    "2. 네이버 문서 요약 API를 사용할 때 서버에 전달하는 기사 제목과 본문의 글자 수는 2,000자를 넘으면 안된다.\n",
    "\n",
    "3. 네이버 문서 요약 API를 사용할 때 요약 문서의 문장 수를 지정하는 옵션은 “summaryCount”이다.\n",
    "\n",
    "4. 구글의 gtts 모듈은 별도의 API키를 발급받아야 사용할 수 있다.\n",
    "\n",
    "정답 : 4\n",
    "\n",
    "해설 : gtts는 API키를 발급 받지 않아도 사용할 수 있다."
   ]
  }
 ],
 "metadata": {
  "kernelspec": {
   "display_name": "Python 3 (ipykernel)",
   "language": "python",
   "name": "python3"
  },
  "language_info": {
   "codemirror_mode": {
    "name": "ipython",
    "version": 3
   },
   "file_extension": ".py",
   "mimetype": "text/x-python",
   "name": "python",
   "nbconvert_exporter": "python",
   "pygments_lexer": "ipython3",
   "version": "3.12.4"
  }
 },
 "nbformat": 4,
 "nbformat_minor": 5
}
