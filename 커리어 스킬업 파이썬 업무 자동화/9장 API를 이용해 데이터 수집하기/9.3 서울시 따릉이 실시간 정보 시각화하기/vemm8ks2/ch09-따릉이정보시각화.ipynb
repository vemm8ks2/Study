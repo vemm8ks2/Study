{
 "cells": [
  {
   "cell_type": "markdown",
   "id": "2fec2a0b-cd82-4320-8d4b-d3a9f6b6662a",
   "metadata": {},
   "source": [
    "### 9.3.2 1~5번 대여소 정보 출력하기"
   ]
  },
  {
   "cell_type": "code",
   "execution_count": 2,
   "id": "22e97386-0943-4aad-b15d-428bfc28520e",
   "metadata": {},
   "outputs": [
    {
     "name": "stdout",
     "output_type": "stream",
     "text": [
      "{'rentBikeStatus': {'list_total_count': 5, 'RESULT': {'CODE': 'INFO-000', 'MESSAGE': '정상 처리되었습니다.'}, 'row': [{'rackTotCnt': '15', 'stationName': '102. 망원역 1번출구 앞', 'parkingBikeTotCnt': '63', 'shared': '420', 'stationLatitude': '37.55564880', 'stationLongitude': '126.91062927', 'stationId': 'ST-4'}, {'rackTotCnt': '14', 'stationName': '103. 망원역 2번출구 앞', 'parkingBikeTotCnt': '40', 'shared': '286', 'stationLatitude': '37.55495071', 'stationLongitude': '126.91083527', 'stationId': 'ST-5'}, {'rackTotCnt': '13', 'stationName': '104. 합정역 1번출구 앞', 'parkingBikeTotCnt': '21', 'shared': '162', 'stationLatitude': '37.55073929', 'stationLongitude': '126.91508484', 'stationId': 'ST-6'}, {'rackTotCnt': '5', 'stationName': '105. 합정역 5번출구 앞', 'parkingBikeTotCnt': '0', 'shared': '0', 'stationLatitude': '37.55000687', 'stationLongitude': '126.91482544', 'stationId': 'ST-7'}, {'rackTotCnt': '12', 'stationName': '106. 합정역 7번출구 앞', 'parkingBikeTotCnt': '4', 'shared': '33', 'stationLatitude': '37.54864502', 'stationLongitude': '126.91282654', 'stationId': 'ST-8'}]}}\n"
     ]
    }
   ],
   "source": [
    "import json\n",
    "import requests\n",
    "\n",
    "api_key = ''\n",
    "start_num = 1\n",
    "end_num = 5\n",
    "\n",
    "url = f\"http://openapi.seoul.go.kr:8088/{api_key}/json/bikeList/{start_num}/{end_num}/\"\n",
    "data = requests.get(url)\n",
    "data_dict = json.loads(data.text)\n",
    "\n",
    "print(data_dict)"
   ]
  },
  {
   "cell_type": "code",
   "execution_count": 5,
   "id": "ece36d95-798f-451b-bb57-733e27baa058",
   "metadata": {},
   "outputs": [
    {
     "name": "stdout",
     "output_type": "stream",
     "text": [
      "대여소 이름 : 102. 망원역 1번출구 앞\n",
      "현재 주차 대수 : 63\n",
      "거치율 : 420 %\n",
      "위도/경도 좌푯값 : 37.55564880 / 126.91062927\n",
      "\n",
      "대여소 이름 : 103. 망원역 2번출구 앞\n",
      "현재 주차 대수 : 40\n",
      "거치율 : 286 %\n",
      "위도/경도 좌푯값 : 37.55495071 / 126.91083527\n",
      "\n",
      "대여소 이름 : 104. 합정역 1번출구 앞\n",
      "현재 주차 대수 : 21\n",
      "거치율 : 162 %\n",
      "위도/경도 좌푯값 : 37.55073929 / 126.91508484\n",
      "\n",
      "대여소 이름 : 105. 합정역 5번출구 앞\n",
      "현재 주차 대수 : 0\n",
      "거치율 : 0 %\n",
      "위도/경도 좌푯값 : 37.55000687 / 126.91482544\n",
      "\n",
      "대여소 이름 : 106. 합정역 7번출구 앞\n",
      "현재 주차 대수 : 4\n",
      "거치율 : 33 %\n",
      "위도/경도 좌푯값 : 37.54864502 / 126.91282654\n",
      "\n"
     ]
    }
   ],
   "source": [
    "for row in data_dict['rentBikeStatus']['row']:\n",
    "    print(f'대여소 이름 : {row['stationName']}')\n",
    "    print(f'현재 주차 대수 : {row['parkingBikeTotCnt']}')\n",
    "    print(f'거치율 : {row['shared']} %')\n",
    "    print(f'위도/경도 좌푯값 : {row['stationLatitude']} / {row['stationLongitude']}')\n",
    "    print()"
   ]
  },
  {
   "cell_type": "markdown",
   "id": "29253450-ba99-4da5-a89e-ac97076896bc",
   "metadata": {},
   "source": [
    "---"
   ]
  },
  {
   "cell_type": "markdown",
   "id": "75db6ed0-29ea-4cb2-bc07-fd097630f093",
   "metadata": {},
   "source": [
    "### 9.3.3 모든 대여소 정보 출력하기"
   ]
  },
  {
   "cell_type": "code",
   "execution_count": 6,
   "id": "1c18ea6a-f892-48db-9627-616df8ac6ab5",
   "metadata": {},
   "outputs": [
    {
     "name": "stdout",
     "output_type": "stream",
     "text": [
      "{'RESULT': {'CODE': 'ERROR-336', 'MESSAGE': '데이터요청은 한번에 최대 1,000건을 넘을 수 없습니다.\\n요청종료위치에서 요청시작위치를 뺀 값이 1000을 넘지 않도록 수정하세요.'}}\n"
     ]
    }
   ],
   "source": [
    "end_num = 1001\n",
    "\n",
    "url = f\"http://openapi.seoul.go.kr:8088/{api_key}/json/bikeList/{start_num}/{end_num}/\"\n",
    "data = requests.get(url)\n",
    "data_dict = json.loads(data.text)\n",
    "\n",
    "print(data_dict)"
   ]
  },
  {
   "cell_type": "code",
   "execution_count": 7,
   "id": "d0c649ab-5d8e-4550-91fd-f289d3b7aa54",
   "metadata": {},
   "outputs": [
    {
     "name": "stdout",
     "output_type": "stream",
     "text": [
      "{'CODE': 'INFO-200', 'MESSAGE': '해당하는 데이터가 없습니다.'}\n"
     ]
    }
   ],
   "source": [
    "start_num = 6999\n",
    "end_num = 7000\n",
    "\n",
    "url = f\"http://openapi.seoul.go.kr:8088/{api_key}/json/bikeList/{start_num}/{end_num}/\"\n",
    "data = requests.get(url)\n",
    "data_dict = json.loads(data.text)\n",
    "\n",
    "print(data_dict)"
   ]
  },
  {
   "cell_type": "code",
   "execution_count": null,
   "id": "ef5eb5c6-8ffa-4f3d-85b2-c57763a6e43e",
   "metadata": {},
   "outputs": [],
   "source": [
    "num = 0\n",
    "\n",
    "while True:\n",
    "    start_num = 1 + 1000 * num\n",
    "    end_num = 1000 + 1000 * num\n",
    "    \n",
    "    url = f\"http://openapi.seoul.go.kr:8088/{api_key}/json/bikeList/{start_num}/{end_num}/\"\n",
    "    data = requests.get(url)\n",
    "    data_dict = json.loads(data.text)\n",
    "\n",
    "    if \"MESSAGE\" in data_dict.keys():\n",
    "        if data_dict[\"MESSAGE\"] == \"해당하는 데이터가 없습니다.\":\n",
    "            break\n",
    "\n",
    "    for row in data_dict['rentBikeStatus']['row']:\n",
    "        print(f'대여소 이름 : {row['stationName']}')\n",
    "        print(f'현재 주차 대수 : {row['parkingBikeTotCnt']}')\n",
    "        print(f'거치율 : {row['shared']} %')\n",
    "        print(f'위도/경도 좌푯값 : {row['stationLatitude']} / {row['stationLongitude']}')\n",
    "        print()\n",
    "\n",
    "    num += 1"
   ]
  },
  {
   "cell_type": "markdown",
   "id": "8a6734ec-d081-40ba-b5c4-72f6a9feae64",
   "metadata": {},
   "source": [
    "```\n",
    "대여소 이름 : 102. 망원역 1번출구 앞<br>\n",
    "현재 주차 대수 : 64<br>\n",
    "거치율 : 427 %<br>\n",
    "위도/경도 좌푯값 : 37.55564880 / 126.91062927<br>\n",
    "\n",
    "대여소 이름 : 103. 망원역 2번출구 앞<br>\n",
    "현재 주차 대수 : 40<br>\n",
    "거치율 : 286 %<br>\n",
    "위도/경도 좌푯값 : 37.55495071 / 126.91083527<br>\n",
    "\n",
    "대여소 이름 : 104. 합정역 1번출구 앞<br>\n",
    "현재 주차 대수 : 20<br>\n",
    "거치율 : 154 %<br>\n",
    "위도/경도 좌푯값 : 37.55073929 / 126.91508484<br>\n",
    "\n",
    "대여소 이름 : 105. 합정역 5번출구 앞<br>\n",
    "현재 주차 대수 : 0<br>\n",
    "거치율 : 0 %<br>\n",
    "위도/경도 좌푯값 : 37.55000687 / 126.91482544<br>\n",
    "\n",
    "대여소 이름 : 106. 합정역 7번출구 앞<br>\n",
    "현재 주차 대수 : 4<br>\n",
    "거치율 : 33 %<br>\n",
    "위도/경도 좌푯값 : 37.54864502 / 126.91282654<br>\n",
    "\n",
    "...\n",
    "```"
   ]
  },
  {
   "cell_type": "markdown",
   "id": "6a86e348-22f6-4b66-8f30-c6bad7ca7913",
   "metadata": {},
   "source": [
    "---"
   ]
  },
  {
   "cell_type": "markdown",
   "id": "4c45891b-7182-4703-8904-e2941bdfa9da",
   "metadata": {},
   "source": [
    "### 9.3.4 따릉이 데이터 시각화하기"
   ]
  },
  {
   "cell_type": "code",
   "execution_count": null,
   "id": "fc0ee267-91e1-405f-9c0d-ac5fee0ec5f6",
   "metadata": {
    "scrolled": true
   },
   "outputs": [],
   "source": [
    "import pandas as pd\n",
    "import pydeck as pdk\n",
    "\n",
    "bike_dict = {\n",
    "    \"rackTotCnt\": [],\n",
    "    \"stationName\": [],\n",
    "    \"parkingBikeTotCnt\": [],\n",
    "    \"shared\": [],\n",
    "    \"latitude\": [],\n",
    "    \"longitude\": []\n",
    "}\n",
    "num = 0\n",
    "\n",
    "while True:\n",
    "    start_num = 1 + 1000 * num\n",
    "    end_num = 1000 + 1000 * num\n",
    "    \n",
    "    url = f\"http://openapi.seoul.go.kr:8088/{api_key}/json/bikeList/{start_num}/{end_num}/\"\n",
    "    data = requests.get(url)\n",
    "    data_dict = json.loads(data.text)\n",
    "\n",
    "    if \"MESSAGE\" in data_dict.keys():\n",
    "        if data_dict[\"MESSAGE\"] == \"해당하는 데이터가 없습니다.\":\n",
    "            break\n",
    "\n",
    "    for row in data_dict['rentBikeStatus']['row']:\n",
    "        bike_dict[\"rackTotCnt\"].append(int(row[\"rackTotCnt\"]))\n",
    "        bike_dict[\"stationName\"].append(row[\"stationName\"])\n",
    "        bike_dict[\"parkingBikeTotCnt\"].append(int(row[\"parkingBikeTotCnt\"]))\n",
    "        bike_dict[\"shared\"].append(int(row[\"shared\"]))\n",
    "        bike_dict[\"latitude\"].append(float(row[\"stationLatitude\"]))\n",
    "        bike_dict[\"longitude\"].append(float(row[\"stationLongitude\"]))\n",
    "\n",
    "    num += 1\n",
    "\n",
    "df = pd.DataFrame(bike_dict)\n",
    "print(df.to_string())"
   ]
  },
  {
   "cell_type": "raw",
   "id": "777d2629-0eac-4e73-98ad-a74f5e11c3f1",
   "metadata": {},
   "source": [
    "      rackTotCnt                                      stationName  parkingBikeTotCnt  shared   latitude   longitude\n",
    "0             15                                  102. 망원역 1번출구 앞                 67     447  37.555649  126.910629\n",
    "1             14                                  103. 망원역 2번출구 앞                 22     157  37.554951  126.910835\n",
    "2             13                                  104. 합정역 1번출구 앞                 19     146  37.550739  126.915085\n",
    "3              5                                  105. 합정역 5번출구 앞                  0       0  37.550007  126.914825\n",
    "4             12                                  106. 합정역 7번출구 앞                  4      33  37.548645  126.912827\n",
    "5              5                                  107. 신한은행 서교동지점                 14     280  37.557510  126.918503\n",
    "\n",
    "..."
   ]
  },
  {
   "cell_type": "code",
   "execution_count": 18,
   "id": "17ddd77a-8ac3-42d0-b10e-12a46ac0a02a",
   "metadata": {},
   "outputs": [],
   "source": [
    "import os\n",
    "import platform\n",
    "import webbrowser\n",
    "\n",
    "# Scatter plot 그리기\n",
    "layer = pdk.Layer(\n",
    "    \"ScatterplotLayer\",\n",
    "    df,\n",
    "    get_position = [\"longitude\", \"latitude\"],\n",
    "    get_fill_color = [\"255-shared\", \"255-shared\", \"255\"],\n",
    "    get_radius = \"60 * shared / 100\",\n",
    "    pickable = True\n",
    ")\n",
    "\n",
    "# 서울의 중심점 좌표 구해 지도 만들기\n",
    "lat_center = df[\"latitude\"].mean()\n",
    "lon_center = df[\"longitude\"].mean()\n",
    "\n",
    "initial_view = pdk.ViewState(latitude=lat_center, longitude=lon_center, zoom=10)\n",
    "\n",
    "map = pdk.Deck(\n",
    "    layers=[layer],\n",
    "    initial_view_state=initial_view,\n",
    "    tooltip={ \"text\": \"대여소 : {stationName}\\n현재 주차 대수 : {parkingBikeTotCnt}\" }\n",
    ")\n",
    "map.to_html(\"./seoul_bike.html\")\n",
    "\n",
    "# 자동으로 HTML 파일 열기\n",
    "ap = os.path.abspath(\"./seoul_bike.html\")\n",
    "if platform.system() == \"Windows\":\n",
    "    webbrowser.open(f\"file://{ap.replace('\\\\', '/')}\") # 윈도우\n",
    "else:\n",
    "    webbrowser.open(f\"file://{ap}\")"
   ]
  },
  {
   "cell_type": "markdown",
   "id": "db826736-e7f0-4442-9019-46ea5d76b5c2",
   "metadata": {},
   "source": [
    "---"
   ]
  },
  {
   "cell_type": "markdown",
   "id": "6b07ff85-167c-44ca-9fbd-40546409fac1",
   "metadata": {},
   "source": [
    "### 최종 코드"
   ]
  },
  {
   "cell_type": "code",
   "execution_count": null,
   "id": "d3d98a57-cbad-4252-be79-5061429f7aef",
   "metadata": {},
   "outputs": [],
   "source": [
    "import json\n",
    "import requests\n",
    "import pandas as pd\n",
    "import pydeck as pdk\n",
    "import os\n",
    "import platform\n",
    "import webbrowser\n",
    "\n",
    "api_key = '72787a764a6f757439354761554b44'\n",
    "\n",
    "bike_dict = {\n",
    "    \"rackTotCnt\": [],\n",
    "    \"stationName\": [],\n",
    "    \"parkingBikeTotCnt\": [],\n",
    "    \"shared\": [],\n",
    "    \"latitude\": [],\n",
    "    \"longitude\": []\n",
    "}\n",
    "num = 0\n",
    "\n",
    "while True:\n",
    "    start_num = 1 + 1000 * num\n",
    "    end_num = 1000 + 1000 * num\n",
    "    \n",
    "    url = f\"http://openapi.seoul.go.kr:8088/{api_key}/json/bikeList/{start_num}/{end_num}/\"\n",
    "    data = requests.get(url)\n",
    "    data_dict = json.loads(data.text)\n",
    "\n",
    "    if \"MESSAGE\" in data_dict.keys():\n",
    "        if data_dict[\"MESSAGE\"] == \"해당하는 데이터가 없습니다.\":\n",
    "            break\n",
    "\n",
    "    for row in data_dict['rentBikeStatus']['row']:\n",
    "        bike_dict[\"rackTotCnt\"].append(int(row[\"rackTotCnt\"]))\n",
    "        bike_dict[\"stationName\"].append(row[\"stationName\"])\n",
    "        bike_dict[\"parkingBikeTotCnt\"].append(int(row[\"parkingBikeTotCnt\"]))\n",
    "        bike_dict[\"shared\"].append(int(row[\"shared\"]))\n",
    "        bike_dict[\"latitude\"].append(float(row[\"stationLatitude\"]))\n",
    "        bike_dict[\"longitude\"].append(float(row[\"stationLongitude\"]))\n",
    "\n",
    "    num += 1\n",
    "\n",
    "df = pd.DataFrame(bike_dict)\n",
    "\n",
    "# Scatter plot 그리기\n",
    "layer = pdk.Layer(\n",
    "    \"ScatterplotLayer\",\n",
    "    df,\n",
    "    get_position = [\"longitude\", \"latitude\"],\n",
    "    get_fill_color = [\"255-shared\", \"255-shared\", \"255\"],\n",
    "    get_radius = \"60 * shared / 100\",\n",
    "    pickable = True\n",
    ")\n",
    "\n",
    "# 서울의 중심점 좌표 구해 지도 만들기\n",
    "lat_center = df[\"latitude\"].mean()\n",
    "lon_center = df[\"longitude\"].mean()\n",
    "\n",
    "initial_view = pdk.ViewState(latitude=lat_center, longitude=lon_center, zoom=10)\n",
    "\n",
    "map = pdk.Deck(\n",
    "    layers=[layer],\n",
    "    initial_view_state=initial_view,\n",
    "    tooltip={ \"text\": \"대여소 : {stationName}\\n현재 주차 대수 : {parkingBikeTotCnt}\" }\n",
    ")\n",
    "map.to_html(\"./seoul_bike.html\")\n",
    "\n",
    "# 자동으로 HTML 파일 열기\n",
    "ap = os.path.abspath(\"./seoul_bike.html\")\n",
    "if platform.system() == \"Windows\":\n",
    "    webbrowser.open(f\"file://{ap.replace('\\\\', '/')}\") # 윈도우\n",
    "else:\n",
    "    webbrowser.open(f\"file://{ap}\")"
   ]
  }
 ],
 "metadata": {
  "kernelspec": {
   "display_name": "Python 3 (ipykernel)",
   "language": "python",
   "name": "python3"
  },
  "language_info": {
   "codemirror_mode": {
    "name": "ipython",
    "version": 3
   },
   "file_extension": ".py",
   "mimetype": "text/x-python",
   "name": "python",
   "nbconvert_exporter": "python",
   "pygments_lexer": "ipython3",
   "version": "3.12.4"
  }
 },
 "nbformat": 4,
 "nbformat_minor": 5
}
