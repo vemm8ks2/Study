{
 "cells": [
  {
   "cell_type": "markdown",
   "id": "c030ebaf-0c0c-4b78-9b44-38b8e55cfbdf",
   "metadata": {},
   "source": [
    "### 셀 서식 적용하기 (12.3)"
   ]
  },
  {
   "cell_type": "markdown",
   "id": "eeb444e8-d64d-489f-ac83-41c5977a1679",
   "metadata": {},
   "source": [
    "---\n",
    "### 서식 지정 예시\n",
    "\n",
    "#### 폰트 : 글꼴 굴림, 글자 크기 12, 진하게\n",
    "```Python\n",
    "변수1 = Font(name=\"굴림\", size=12, bold=True)\n",
    "```\n",
    "#### 정렬 : 수평 가운데로\n",
    "```Python\n",
    "변수2 = Alignment(horizontal=\"center\")\n",
    "```\n",
    "#### 셀 배경색 : 시작/마지막 색상은 FFD732(dhfpswltor), 채우기 타입은 단색 채우기\n",
    "```Python\n",
    "변수3 = PatternFill(start_color=\"FFD732\", end_color=\"FFD732\", fill_type=\"solid\")\n",
    "```\n",
    "\n",
    "#### 셀 테두리 : 좌, 우, 위, 아래 바깥 테두리(Side)를 얇게(thin)\n",
    "```Python\n",
    "변수4 = Boder(left=Side(style=\"thin\"), right=Side(style=\"thin\"), top=Side(style=\"thin\"), bottom=Side(style=\"thin\"))\n",
    "```\n",
    "\n",
    "#### 서식 적용\n",
    "```Python\n",
    "sheet[\"A14\"].font = 변수1\n",
    "sheet[\"A14\"].alignment = 변수2\n",
    "sheet[\"A14\"].fill = 변수3\n",
    "sheet[\"A14\"].border = 변수4\n",
    "```\n",
    "\n",
    "[더 많은 셀 서식 보기](https://openpyxl.readthedocs.io/en/stable/styles.html)"
   ]
  },
  {
   "cell_type": "markdown",
   "id": "aeb668c4-0077-4fb4-827a-b40703e4fae8",
   "metadata": {},
   "source": [
    "---\n",
    "#### 셀 하나에 서식 적용하기 (12.3.1)"
   ]
  },
  {
   "cell_type": "code",
   "execution_count": 3,
   "id": "3c2a2e13-733a-4719-a4a6-d85bab25f66f",
   "metadata": {},
   "outputs": [],
   "source": [
    "import openpyxl\n",
    "from openpyxl.styles import Font, Alignment, PatternFill, Border, Side\n",
    "\n",
    "book = openpyxl.load_workbook(\"./2024년_광고비_병합.xlsx\")\n",
    "sheet = book.active\n",
    "\n",
    "# 서식 지정\n",
    "font = Font(name=\"굴림\", size=12, bold=True)\n",
    "alignment_center = Alignment(horizontal=\"center\")\n",
    "color_orange = PatternFill(start_color=\"FFD732\", end_color=\"FFD732\", fill_type=\"solid\")\n",
    "border = Border(left=Side(style=\"thin\"), right=Side(style=\"thin\"), top=Side(style=\"thin\"), bottom=Side(style=\"thin\"))\n",
    "\n",
    "# 서식 적용\n",
    "sheet[\"A14\"].value = \"합계\"\n",
    "sheet[\"A14\"].font = font\n",
    "sheet[\"A14\"].alignment = alignment_center\n",
    "sheet[\"A14\"].fill = color_orange\n",
    "sheet[\"A14\"].border = border\n",
    "\n",
    "# 합계 산출\n",
    "sheet[\"B14\"].value = \"=SUM(B2:B13)\"\n",
    "sheet[\"C14\"].value = \"=SUM(C2:C13)\"\n",
    "sheet[\"D14\"].value = \"=SUM(D2:D13)\"\n",
    "\n",
    "book.save(\"./2024년_광고비_병합_서식변경.xlsx\")"
   ]
  },
  {
   "cell_type": "markdown",
   "id": "a8a6db72-0407-4b35-8ccb-c8e5f6c1ce97",
   "metadata": {},
   "source": [
    "---\n",
    "#### 여러 셀에 서식 적용하기 (12.3.2)"
   ]
  },
  {
   "cell_type": "code",
   "execution_count": 5,
   "id": "7414297b-03e7-45a2-8b17-bbcb836f8f9d",
   "metadata": {},
   "outputs": [],
   "source": [
    "color_grey = PatternFill(start_color=\"D2D2D2\", end_color=\"D2D2D2\", fill_type=\"solid\")\n",
    "\n",
    "# 명령 하나로 여러 셀에 서식을 적용하는 것은 불가능하다. 대신에 중첩 for 문을 이용해 셀 하나하나에 서식 적용을 해야한다."
   ]
  },
  {
   "cell_type": "code",
   "execution_count": 6,
   "id": "df7962d6-72c1-4055-a26c-c959a5cfc7b2",
   "metadata": {},
   "outputs": [],
   "source": [
    "# 광고비 데이터 부분에 서식 적용\n",
    "for row in sheet[\"B2:D13\"]:\n",
    "    for cell in row:\n",
    "        cell.font = font\n",
    "        cell.alignment = alignment_center\n",
    "        cell.fill = color_grey\n",
    "        cell.border = border\n",
    "\n",
    "# 합계 부분에 서식 적용\n",
    "for row in sheet[\"B14:D14\"]:\n",
    "    for cell in row:\n",
    "        cell.font = font\n",
    "        cell.alignment = alignment_center\n",
    "        cell.fill = color_orange\n",
    "        cell.border = border\n",
    "\n",
    "book.save(\"./2024년_광고비_병합_서식변경.xlsx\")"
   ]
  },
  {
   "cell_type": "code",
   "execution_count": null,
   "id": "9bfed54c-0c26-406e-9722-f6a5cadc453e",
   "metadata": {},
   "outputs": [],
   "source": []
  }
 ],
 "metadata": {
  "kernelspec": {
   "display_name": "Python 3 (ipykernel)",
   "language": "python",
   "name": "python3"
  },
  "language_info": {
   "codemirror_mode": {
    "name": "ipython",
    "version": 3
   },
   "file_extension": ".py",
   "mimetype": "text/x-python",
   "name": "python",
   "nbconvert_exporter": "python",
   "pygments_lexer": "ipython3",
   "version": "3.12.4"
  }
 },
 "nbformat": 4,
 "nbformat_minor": 5
}
