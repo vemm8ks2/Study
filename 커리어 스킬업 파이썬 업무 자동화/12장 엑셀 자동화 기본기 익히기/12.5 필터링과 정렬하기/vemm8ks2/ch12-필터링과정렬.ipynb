{
 "cells": [
  {
   "cell_type": "markdown",
   "id": "30200a11-80f3-4181-8307-a2e21e3becf3",
   "metadata": {},
   "source": [
    "### 필터링과 정렬하기 (12.5)"
   ]
  },
  {
   "cell_type": "markdown",
   "id": "a64b6848-3582-4c47-89c7-955f758239d9",
   "metadata": {},
   "source": [
    "#### 필터링하기 (12.5.1)"
   ]
  },
  {
   "cell_type": "code",
   "execution_count": 3,
   "id": "ba8c6e16-9244-4abb-91bc-ce8c6ff76881",
   "metadata": {},
   "outputs": [
    {
     "name": "stdout",
     "output_type": "stream",
     "text": [
      "  지역명                 규모    연도   월     분양가\n",
      "0  서울                 전체  2015  10  5841.0\n",
      "1  서울         전용면적 60㎡이하  2015  10  5652.0\n",
      "2  서울   전용면적 60㎡초과 85㎡이하  2015  10  5882.0\n",
      "3  서울  전용면적 85㎡초과 102㎡이하  2015  10  5721.0\n",
      "4  서울        전용면적 102㎡초과  2015  10  5879.0\n"
     ]
    }
   ],
   "source": [
    "import pandas as pd\n",
    "\n",
    "df = pd.read_excel(\"./아파트분양가.xlsx\")\n",
    "\n",
    "result = df[df[\"분양가\"] >= 5000]\n",
    "\n",
    "print(result.head().to_string())"
   ]
  },
  {
   "cell_type": "code",
   "execution_count": 5,
   "id": "0e2fdcb9-0c81-4d2c-9240-1a72bd60fd20",
   "metadata": {},
   "outputs": [
    {
     "name": "stdout",
     "output_type": "stream",
     "text": [
      "  지역명                 규모    연도   월     분양가\n",
      "5  인천                 전체  2015  10  3163.0\n",
      "6  인천         전용면적 60㎡이하  2015  10  3488.0\n",
      "7  인천   전용면적 60㎡초과 85㎡이하  2015  10  3119.0\n",
      "8  인천  전용면적 85㎡초과 102㎡이하  2015  10  3545.0\n",
      "9  인천        전용면적 102㎡초과  2015  10  3408.0\n"
     ]
    }
   ],
   "source": [
    "result = df[(df[\"분양가\"] >= 3000) & (df[\"분양가\"] < 4000)]\n",
    "print(result.head().to_string())"
   ]
  },
  {
   "cell_type": "code",
   "execution_count": 6,
   "id": "feb861df-82be-460d-9882-e25544a252fb",
   "metadata": {},
   "outputs": [
    {
     "name": "stdout",
     "output_type": "stream",
     "text": [
      "    지역명                규모    연도   월     분양가\n",
      "15   부산                전체  2015  10  3112.0\n",
      "19   부산       전용면적 102㎡초과  2015  10  3500.0\n",
      "100  부산                전체  2015  11  3131.0\n",
      "102  부산  전용면적 60㎡초과 85㎡이하  2015  11  3037.0\n",
      "104  부산       전용면적 102㎡초과  2015  11  3739.0\n"
     ]
    }
   ],
   "source": [
    "result = df[(df[\"분양가\"] >= 3000) & (df[\"분양가\"] < 4000) & (df[\"지역명\"] == \"부산\")]\n",
    "print(result.head().to_string())"
   ]
  },
  {
   "cell_type": "code",
   "execution_count": 7,
   "id": "72ee5e76-57e8-4689-9a00-38db2d951c3b",
   "metadata": {},
   "outputs": [
    {
     "name": "stdout",
     "output_type": "stream",
     "text": [
      "  지역명                 규모    연도   월     분양가\n",
      "0  서울                 전체  2015  10  5841.0\n",
      "1  서울         전용면적 60㎡이하  2015  10  5652.0\n",
      "2  서울   전용면적 60㎡초과 85㎡이하  2015  10  5882.0\n",
      "3  서울  전용면적 85㎡초과 102㎡이하  2015  10  5721.0\n",
      "4  서울        전용면적 102㎡초과  2015  10  5879.0\n"
     ]
    }
   ],
   "source": [
    "result = df[(df[\"지역명\"] == \"서울\") | (df[\"지역명\"] == \"부산\")]\n",
    "print(result.head().to_string())"
   ]
  },
  {
   "cell_type": "markdown",
   "id": "0f32810a-e5c8-4303-9b98-a97e66f65d95",
   "metadata": {},
   "source": [
    "#### 정렬하기 (12.5.2)"
   ]
  },
  {
   "cell_type": "code",
   "execution_count": 8,
   "id": "4c6aee4a-2647-445a-babb-42431a8290fe",
   "metadata": {},
   "outputs": [
    {
     "name": "stdout",
     "output_type": "stream",
     "text": [
      "     지역명                 규모    연도   월      분양가\n",
      "4508  서울  전용면적 85㎡초과 102㎡이하  2020   3  13835.0\n",
      "4423  서울  전용면적 85㎡초과 102㎡이하  2020   2  13835.0\n",
      "3743  서울  전용면적 85㎡초과 102㎡이하  2019   6  12728.0\n",
      "4168  서울  전용면적 85㎡초과 102㎡이하  2019  11  12728.0\n",
      "3913  서울  전용면적 85㎡초과 102㎡이하  2019   8  12728.0\n"
     ]
    }
   ],
   "source": [
    "result = result.sort_values(by=\"분양가\", ascending=False)\n",
    "print(result.head().to_string())"
   ]
  },
  {
   "cell_type": "code",
   "execution_count": null,
   "id": "cfff468e-e0a5-42e7-9602-443101edabae",
   "metadata": {},
   "outputs": [],
   "source": []
  }
 ],
 "metadata": {
  "kernelspec": {
   "display_name": "Python 3 (ipykernel)",
   "language": "python",
   "name": "python3"
  },
  "language_info": {
   "codemirror_mode": {
    "name": "ipython",
    "version": 3
   },
   "file_extension": ".py",
   "mimetype": "text/x-python",
   "name": "python",
   "nbconvert_exporter": "python",
   "pygments_lexer": "ipython3",
   "version": "3.12.4"
  }
 },
 "nbformat": 4,
 "nbformat_minor": 5
}
