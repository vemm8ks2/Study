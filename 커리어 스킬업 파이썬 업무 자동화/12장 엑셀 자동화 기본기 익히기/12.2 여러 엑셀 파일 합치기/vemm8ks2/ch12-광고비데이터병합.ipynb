{
 "cells": [
  {
   "cell_type": "markdown",
   "id": "5e7df526-849f-40d7-92c8-78a3c5755c73",
   "metadata": {},
   "source": [
    "### 여러 엑셀 파일 합치기 (12.2)"
   ]
  },
  {
   "cell_type": "markdown",
   "id": "fcee6a7c-e200-49cf-ade1-3f9f7c79d2b3",
   "metadata": {},
   "source": [
    "#### 특정 열만 가져와 합치기 (12.2.1)"
   ]
  },
  {
   "cell_type": "code",
   "execution_count": 7,
   "id": "0f18edda-ffe8-4cb8-832a-e18b0ebab917",
   "metadata": {},
   "outputs": [
    {
     "name": "stdout",
     "output_type": "stream",
     "text": [
      "          name  magazine  newspaper    radio         tv      total\n",
      "date                                                              \n",
      "2024-01  Apple     1.350   14.29930  1.20878   50.76334   67.62141\n",
      "2024-02  Apple     1.160   10.68028  1.37101   35.19002   48.40130\n",
      "2024-03  Apple     1.056   24.18917  4.88819  120.34659  150.47994\n",
      "2024-04  Apple     0.810   16.04840  5.88151  155.42072  178.16062\n",
      "2024-05  Apple     1.954   18.91454  5.49391  115.61826  141.98071 \n",
      "\n",
      "           name  magazine  newspaper    radio         tv      total\n",
      "date                                                               \n",
      "2024-01  Amazon     1.450   13.59930  1.30878   52.86334   69.22141\n",
      "2024-02  Amazon     1.260   10.98028  1.47101   36.29002   50.00130\n",
      "2024-03  Amazon     1.156   25.28917  4.98819  121.44659  152.87994\n",
      "2024-04  Amazon     0.910   16.14840  5.98151  156.52072  179.56062\n",
      "2024-05  Amazon     2.054   19.11454  5.59391  116.71826  143.48071 \n",
      "\n",
      "          name  magazine  newspaper    radio         tv      total\n",
      "date                                                              \n",
      "2024-01  Tesla     0.950   12.39930  0.90878   45.56334   59.82141\n",
      "2024-02  Tesla     1.060    9.18028  1.07101   30.09002   41.40130\n",
      "2024-03  Tesla     0.956   21.98917  4.58819  113.14659  140.67994\n",
      "2024-04  Tesla     0.710   14.74840  5.58151  148.32072  169.36062\n",
      "2024-05  Tesla     1.654   16.71454  5.29391  111.51826  135.18071 \n",
      "\n",
      "                애플        아마존        테슬라\n",
      "date                                    \n",
      "2024-01   67.62141   69.22141   59.82141\n",
      "2024-02   48.40130   50.00130   41.40130\n",
      "2024-03  150.47994  152.87994  140.67994\n",
      "2024-04  178.16062  179.56062  169.36062\n",
      "2024-05  141.98071  143.48071  135.18071\n",
      "2024-06  121.10735  122.60735  115.40735\n",
      "2024-07  112.11907  113.61907  103.31907\n",
      "2024-08   98.86988  100.36988   91.96988\n",
      "2024-09  175.13848  176.63848  168.23848\n",
      "2024-10  189.97425  191.37425  182.17425\n",
      "2024-11  187.69934  189.99934  178.99934\n",
      "2024-12  253.62395  255.02395  243.92395\n"
     ]
    }
   ],
   "source": [
    "import pandas as pd\n",
    "\n",
    "company_list = ['애플', '아마존', '테슬라']\n",
    "df_merge = pd.DataFrame()\n",
    "\n",
    "for company in company_list:\n",
    "    df = pd.read_excel(f\"./2024년_광고비_{company}.xlsx\")\n",
    "    df.set_index(\"date\", inplace=True)\n",
    "    df_merge[company] = df[\"total\"]\n",
    "    \n",
    "    print(df.head(), '\\n')\n",
    "\n",
    "print(df_merge)\n",
    "df_merge.to_excel(\"./2024년_광고비_병합.xlsx\")"
   ]
  }
 ],
 "metadata": {
  "kernelspec": {
   "display_name": "Python 3 (ipykernel)",
   "language": "python",
   "name": "python3"
  },
  "language_info": {
   "codemirror_mode": {
    "name": "ipython",
    "version": 3
   },
   "file_extension": ".py",
   "mimetype": "text/x-python",
   "name": "python",
   "nbconvert_exporter": "python",
   "pygments_lexer": "ipython3",
   "version": "3.12.4"
  }
 },
 "nbformat": 4,
 "nbformat_minor": 5
}
