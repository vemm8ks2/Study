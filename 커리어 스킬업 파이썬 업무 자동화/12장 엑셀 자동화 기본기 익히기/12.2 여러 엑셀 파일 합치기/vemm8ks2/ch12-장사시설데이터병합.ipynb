{
 "cells": [
  {
   "cell_type": "markdown",
   "id": "96a5acbd-d7b3-4e7a-8c03-b13952e497a8",
   "metadata": {},
   "source": [
    "### 여러 엑셀 파일 합치기 (12.2)"
   ]
  },
  {
   "cell_type": "markdown",
   "id": "0713e375-a53b-481b-bf70-5bd792fe96f7",
   "metadata": {},
   "source": [
    "#### 특정 시트의 특정 열만 가져와 합치기 (12.2.2)"
   ]
  },
  {
   "cell_type": "markdown",
   "id": "8a00ac3a-ccb4-4571-af4f-0f0063b4a1ef",
   "metadata": {},
   "source": [
    "---\n",
    "##### 여러 파일에서 특정 시트의 특정 열 읽어오기"
   ]
  },
  {
   "cell_type": "code",
   "execution_count": 10,
   "id": "42515d71-bc82-494d-b357-07d4176e95e3",
   "metadata": {},
   "outputs": [
    {
     "name": "stdout",
     "output_type": "stream",
     "text": [
      "           시설명                                 주소          전화번호\n",
      "0  서울적십자병원장례식장       서울특별시 종로구 새문안로 9 (평동, 적십자병원)  02-2002-8444\n",
      "1   강북삼성병원장례식장             서울특별시 종로구 새문안로 29 (평동)  02-2001-1081\n",
      "2  서울대학교병원장례식장    서울특별시 종로구 대학로 101,서울대학교병원 (연건동)  02-2072-2020\n",
      "3    서울백병원장례식장             서울특별시 중구 마른내로 9 (저동2가)  02-2277-4442\n",
      "4      국립중앙의료원  서울특별시 중구 을지로 245 (을지로6가, 국립중앙의료원)  02-2262-4800 \n",
      "\n",
      "                      시설명                                         주소  \\\n",
      "0  (복)대구가톨릭사회복지회(대구가톨릭대학)  대구광역시 남구 두류공원로17길 33 대구가톨릭대학교병원장례식장 (대명동)   \n",
      "1  (복)대구가톨릭사회복지회(성요셉요양병원)     대구광역시 달성군 논공읍 논공로 210 성요셉요양병원장례식장 (남리)   \n",
      "2             (유)무안병원장례식장                  전라남도 무안군 무안읍 몽탄로 65 (성동리)   \n",
      "3               (유)삼봉장례식장                       전라북도 완주군 삼례읍  과학로466   \n",
      "4             (유)예수병원장례식장        전라북도 전주시 완산구 서원로 365 (중화산동1가, 예수병원)   \n",
      "\n",
      "           전화번호  \n",
      "0  053-650-4444  \n",
      "1  053-617-3644  \n",
      "2  061-453-0068  \n",
      "3  063-261-4445  \n",
      "4  063-285-1009   \n",
      "\n",
      "                    시설명                                            주소  \\\n",
      "0  (복)대구가톨릭사회복지회가톨릭장례식장  대구광역시 남구 두류공원로17길 33 대구가톨릭대학교병원 내 장례식장 (대명동)   \n",
      "1  (복)대구가톨릭사회복지회논공 장례식장         대구광역시 달성군 논공읍 논공로 210성요셉요양병원장례식장 (남리)   \n",
      "2            (유)동이리장례식장                        전라북도 익산시 서동로 5 (인화동2가)   \n",
      "3           (유)무안병원장례식장                     전라남도 무안군 무안읍 몽탄로 65 (성동리)   \n",
      "4        (유)신광 익산병원장례식장           전라북도 익산시 무왕로 969 익산병원장례식장(신동, 익산병원)   \n",
      "\n",
      "            전화번호  \n",
      "0   053-650-4444  \n",
      "1   053-617-3644  \n",
      "2   063-843-4444  \n",
      "3   061-453-0068  \n",
      "4  063-8510-9444   \n",
      "\n",
      "                    시설명                                            주소  \\\n",
      "0  (복)대구가톨릭사회복지회가톨릭장례식장  대구광역시 남구 두류공원로17길 33 대구가톨릭대학교병원 내 장례식장 (대명동)   \n",
      "1  (복)대구가톨릭사회복지회논공 장례식장         대구광역시 달성군 논공읍 논공로 210성요셉요양병원장례식장 (남리)   \n",
      "2             (유)금강장례식장                       인천광역시 남구 인주대로 452 (주안동)   \n",
      "3            (유)동이리장례식장                        전라북도 익산시 서동로 5 (인화동2가)   \n",
      "4           (유)무안병원장례식장                     전라남도 무안군 무안읍 몽탄로 65 (성동리)   \n",
      "\n",
      "           전화번호  \n",
      "0  053-650-4444  \n",
      "1  053-617-3644  \n",
      "2  032-424-4455  \n",
      "3  063-843-4444  \n",
      "4  061-453-0068   \n",
      "\n"
     ]
    }
   ],
   "source": [
    "import pandas as pd\n",
    "\n",
    "for year in range(2021, 2025):\n",
    "    # 장례식장 시설정보 시트를 읽어와 데이터프레임으로 변환\n",
    "    df = pd.read_excel(f\"./장사시설현황/{year}년/전국장사시설현황.xlsx\", sheet_name=\"장례식장 시설정보\")\n",
    "\n",
    "    # df에서 시설명, 주소, 전화번호만 추출해 df_data에 저장\n",
    "    df_data = df[[\"시설명\", \"주소\", \"전화번호\"]]\n",
    "    print(df_data.head(), '\\n')"
   ]
  },
  {
   "cell_type": "markdown",
   "id": "e7a2abfb-97bf-43fc-bec4-3c64b2aba579",
   "metadata": {},
   "source": [
    "---\n",
    "##### 여러 시트를 하나의 파일로 합치기"
   ]
  },
  {
   "cell_type": "code",
   "execution_count": 12,
   "id": "c85ddb7d-98a2-4e2a-b28b-feb49bb8f2bc",
   "metadata": {},
   "outputs": [
    {
     "name": "stdout",
     "output_type": "stream",
     "text": [
      "2021년 데이터 병합 완료 \n",
      "\n",
      "2022년 데이터 병합 완료 \n",
      "\n",
      "2023년 데이터 병합 완료 \n",
      "\n",
      "2024년 데이터 병합 완료 \n",
      "\n"
     ]
    }
   ],
   "source": [
    "import pandas as pd\n",
    "from pandas import ExcelWriter\n",
    "\n",
    "writer = ExcelWriter(\"./장사시설_병합.xlsx\")\n",
    "\n",
    "for year in range(2021, 2025):\n",
    "    # 장례식장 시설정보 시트를 읽어와 데이터프레임으로 변환\n",
    "    df = pd.read_excel(f\"./장사시설현황/{year}년/전국장사시설현황.xlsx\", sheet_name=\"장례식장 시설정보\")\n",
    "\n",
    "    # df에서 시설명, 주소, 전화번호만 추출해 df_data에 저장\n",
    "    df_data = df[[\"시설명\", \"주소\", \"전화번호\"]]\n",
    "    \n",
    "    df_data.to_excel(writer, sheet_name=f\"{year}년\")\n",
    "    print(f\"{year}년 데이터 병합 완료\", '\\n')\n",
    "\n",
    "writer.close()"
   ]
  },
  {
   "cell_type": "code",
   "execution_count": 13,
   "id": "44443fa3-65e4-49ee-b188-23ae520b6939",
   "metadata": {},
   "outputs": [],
   "source": [
    "import openpyxl\n",
    "\n",
    "book = openpyxl.load_workbook(\"./장사시설_병합.xlsx\")\n",
    "\n",
    "for year in range(2021, 2025):\n",
    "    sheet = book[f\"{year}년\"]\n",
    "\n",
    "    sheet.column_dimensions[\"B\"].width = 37\n",
    "    sheet.column_dimensions[\"C\"].width = 70\n",
    "    sheet.column_dimensions[\"D\"].width = 14\n",
    "\n",
    "book.save(\"./장사시설_병합.xlsx\")"
   ]
  }
 ],
 "metadata": {
  "kernelspec": {
   "display_name": "Python 3 (ipykernel)",
   "language": "python",
   "name": "python3"
  },
  "language_info": {
   "codemirror_mode": {
    "name": "ipython",
    "version": 3
   },
   "file_extension": ".py",
   "mimetype": "text/x-python",
   "name": "python",
   "nbconvert_exporter": "python",
   "pygments_lexer": "ipython3",
   "version": "3.12.4"
  }
 },
 "nbformat": 4,
 "nbformat_minor": 5
}
