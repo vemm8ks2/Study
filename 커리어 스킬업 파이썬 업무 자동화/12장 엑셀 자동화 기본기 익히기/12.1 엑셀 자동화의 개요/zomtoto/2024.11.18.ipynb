{
 "cells": [
  {
   "cell_type": "code",
   "execution_count": 1,
   "id": "26ced133-6353-4d72-9bc2-38dac08dfa83",
   "metadata": {},
   "outputs": [],
   "source": [
    "import pandas as pd\n",
    "df = pd.read_excel(\"./전자기기매출액.xlsx\")\n",
    "df[::2].to_excel(\"./전자기기매출액_홀수행삭제.xlsx\",index=None)"
   ]
  }
 ],
 "metadata": {
  "kernelspec": {
   "display_name": "Python 3 (ipykernel)",
   "language": "python",
   "name": "python3"
  },
  "language_info": {
   "codemirror_mode": {
    "name": "ipython",
    "version": 3
   },
   "file_extension": ".py",
   "mimetype": "text/x-python",
   "name": "python",
   "nbconvert_exporter": "python",
   "pygments_lexer": "ipython3",
   "version": "3.12.4"
  }
 },
 "nbformat": 4,
 "nbformat_minor": 5
}
