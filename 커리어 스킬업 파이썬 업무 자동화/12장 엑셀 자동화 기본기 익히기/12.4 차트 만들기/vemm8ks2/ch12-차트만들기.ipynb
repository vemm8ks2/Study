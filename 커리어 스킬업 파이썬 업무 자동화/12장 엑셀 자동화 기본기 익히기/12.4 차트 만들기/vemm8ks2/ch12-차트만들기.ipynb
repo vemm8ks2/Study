{
 "cells": [
  {
   "cell_type": "markdown",
   "id": "d5542a78-0cf8-4ef2-8b84-0f105f332b4b",
   "metadata": {},
   "source": [
    "### 차트 만들기 (12.4)"
   ]
  },
  {
   "cell_type": "markdown",
   "id": "7654ba42-81e9-4a56-b9f5-97db2197e9de",
   "metadata": {},
   "source": [
    "#### 막대 차트 만들기 (12.4.1)"
   ]
  },
  {
   "cell_type": "code",
   "execution_count": 2,
   "id": "7da241d4-5cca-49f6-afb0-f3a97b227433",
   "metadata": {},
   "outputs": [],
   "source": [
    "import openpyxl\n",
    "from openpyxl.chart import BarChart, Reference\n",
    "\n",
    "company_list = [\"애플\", \"아마존\", \"테슬라\"]\n",
    "\n",
    "for company in company_list:\n",
    "    book = openpyxl.load_workbook(f\"./2024년_광고비_{company}.xlsx\")\n",
    "    sheet = book.active\n",
    "\n",
    "    # 월별 total 광고비로 막대 차트 만들기\n",
    "    bar_chart = BarChart()\n",
    "    bar_chart.title = f\"{company} 월별 광고비\"\n",
    "    data = Reference(sheet, range_string=\"Sheet1!G1:G13\")\n",
    "    bar_chart.add_data(data, titles_from_data=True)\n",
    "    sheet.add_chart(bar_chart, \"H1\")\n",
    "    book.save(f\"./막대차트만들기_{company}.xlsx\")"
   ]
  },
  {
   "cell_type": "markdown",
   "id": "c8907229-365c-44fe-8c17-c73cb24c0f45",
   "metadata": {},
   "source": [
    "#### 꺾은선 차트 만들기 (12.4.2)"
   ]
  },
  {
   "cell_type": "code",
   "execution_count": 4,
   "id": "779f2375-2ba0-4abe-98e8-0402644749bd",
   "metadata": {},
   "outputs": [],
   "source": [
    "from openpyxl.chart import LineChart\n",
    "\n",
    "for company in company_list:\n",
    "    book = openpyxl.load_workbook(f\"./막대차트만들기_{company}.xlsx\")\n",
    "    sheet = book.active\n",
    "\n",
    "    # 월별 매체별 광고비로 꺾은선 차트 만들기\n",
    "    line_chart = LineChart()\n",
    "    line_chart.title = f\"{company} 월별 광고비\"\n",
    "\n",
    "    for column in [\"C\", \"D\", \"E\", \"F\"]:\n",
    "        data = Reference(sheet, range_string=f\"Sheet1!{column}1:{column}13\")\n",
    "        line_chart.add_data(data, titles_from_data=True)\n",
    "\n",
    "    sheet.add_chart(line_chart, \"H14\")\n",
    "    book.save(f\"./라인차트만들기_{company}.xlsx\")"
   ]
  },
  {
   "cell_type": "code",
   "execution_count": null,
   "id": "0ae5d968-1cce-4094-a42a-512d9e8f81bd",
   "metadata": {},
   "outputs": [],
   "source": []
  }
 ],
 "metadata": {
  "kernelspec": {
   "display_name": "Python 3 (ipykernel)",
   "language": "python",
   "name": "python3"
  },
  "language_info": {
   "codemirror_mode": {
    "name": "ipython",
    "version": 3
   },
   "file_extension": ".py",
   "mimetype": "text/x-python",
   "name": "python",
   "nbconvert_exporter": "python",
   "pygments_lexer": "ipython3",
   "version": "3.12.4"
  }
 },
 "nbformat": 4,
 "nbformat_minor": 5
}
