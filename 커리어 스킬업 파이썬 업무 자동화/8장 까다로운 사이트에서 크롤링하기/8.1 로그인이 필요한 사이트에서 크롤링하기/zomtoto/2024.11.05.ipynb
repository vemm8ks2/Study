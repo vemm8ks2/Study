{
 "cells": [
  {
   "cell_type": "code",
   "execution_count": null,
   "id": "72abf8cb-9334-4668-96af-013b6b0178db",
   "metadata": {},
   "outputs": [],
   "source": [
    "#pip install selenium #selenium설치\n",
    "\n",
    "from selenium import webdriver\n",
    "from selenium.webdriver.common.by import By\n",
    "import time \n",
    "opt = webdriver.ChromeOptions()\n",
    "opt.add_experimental_option(\"detach\",True)\n",
    "browser = webdriver.Chrome(options=opt)\n",
    "browser.get(\"https://accounts.kakao.com/login/?continue=https%3A%2F%2Fwww.daum.net#login\")\n",
    "\n",
    "#로그인하기\n",
    "id = browser.find_element(By.CSS_SELECTOR, \"input#loginId--1\")\n",
    "id.send_keys(\"카카오톡 아이디 입력\")\n",
    "pw = browser.find_element(By.CSS_SELECTOR, \"input#password--2\")\n",
    "pw.send_keys(\"비밀번호 입력\")\n",
    "button = browser.find_element(By.CSS_SELECTOR,\"button.btn_g.highlight.submit\")\n",
    "button.click()\n",
    "input(\"로봇이 아닙니다.를 해결 후 엔터를 입력해주세요 >> \")\n",
    "button.click()\n",
    "# 로그인 완료될 때까지 10초 대기\n",
    "time.sleep(10)\n",
    "#이메일 수집하기\n",
    "title = browser.find_elements(By.CSS_SELECTOR,\"strong,tit_subject\")\n",
    "for i in title:\n",
    "    print(i.text)\n",
    "browser.close()"
   ]
  },
  {
   "cell_type": "markdown",
   "id": "dc350247-99ac-4713-b942-318a27fe09e8",
   "metadata": {},
   "source": [
    "### 1분 퀴즈 풀어보기 [p.260]\n",
    "#### 1. selenium 모듈에 대한 설명 중 옳지 않은 것을 고르세요.\n",
    "##### 1. selenium은 키보드 입력, 버튼 클릭 등의 동작을 자동화할 수 있다.\n",
    "##### 2. selenium은 HTML 요소를 크롤링 할 수 있다.\n",
    "##### 3. selenium은 HTML 요소를 크롤링하기 위해 서버로부터 HTML 코드를 가져오는 문장이 필요하다\n",
    "##### 4. webdriver.Chrome()은 크롬 브라우저를 여는 명령어 이다.\n",
    "\n",
    "###### 정답 : 3\n",
    "###### 해설 : selenium은 HTML요소를 크롤링 하기 위해 서버로부터 HTML 코드를 가져오는 문장을 사용하지 않고 원하는 요소를 가져오는것이 가능하다.\n"
   ]
  }
 ],
 "metadata": {
  "kernelspec": {
   "display_name": "Python 3 (ipykernel)",
   "language": "python",
   "name": "python3"
  },
  "language_info": {
   "codemirror_mode": {
    "name": "ipython",
    "version": 3
   },
   "file_extension": ".py",
   "mimetype": "text/x-python",
   "name": "python",
   "nbconvert_exporter": "python",
   "pygments_lexer": "ipython3",
   "version": "3.12.4"
  }
 },
 "nbformat": 4,
 "nbformat_minor": 5
}
