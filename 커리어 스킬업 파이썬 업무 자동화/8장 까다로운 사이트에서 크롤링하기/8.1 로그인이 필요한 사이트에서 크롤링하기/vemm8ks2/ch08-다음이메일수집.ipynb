{
 "cells": [
  {
   "cell_type": "markdown",
   "id": "111b87e7-05c9-4e7d-9165-81933af88c34",
   "metadata": {},
   "source": [
    "### 로그인이 필요한 사이트에서 크롤링하기 (8.1)"
   ]
  },
  {
   "cell_type": "code",
   "execution_count": null,
   "id": "ce602345-efc7-4693-844d-766c91ec048b",
   "metadata": {},
   "outputs": [],
   "source": []
  },
  {
   "cell_type": "code",
   "execution_count": 5,
   "id": "eaa071d1-bc44-4f11-b3d0-5bdbabc2f33c",
   "metadata": {},
   "outputs": [
    {
     "name": "stdin",
     "output_type": "stream",
     "text": [
      "reCaptcha 해결 후 엔터를 쳐주세요! \n"
     ]
    },
    {
     "name": "stdout",
     "output_type": "stream",
     "text": [
      "띵동! Daum 메일팀의 환영 인사가 도착했습니다.\n"
     ]
    }
   ],
   "source": [
    "import time\n",
    "from selenium import webdriver\n",
    "from selenium.webdriver.common.by import By\n",
    "\n",
    "browser = webdriver.Chrome()\n",
    "browser.get('https://accounts.kakao.com/login/?continue=https%3A%2F%2Fmail.daum.net#login')\n",
    "\n",
    "# 로그인하기\n",
    "id = browser.find_element(By.CSS_SELECTOR, 'input#loginId--1')\n",
    "id.send_keys('')\n",
    "\n",
    "pw = browser.find_element(By.CSS_SELECTOR, 'input#password--2')\n",
    "pw.send_keys('')\n",
    "\n",
    "button = browser.find_element(By.CSS_SELECTOR, 'button.btn_g.highlight.submit')\n",
    "button.click()\n",
    "\n",
    "input('reCaptcha 해결 후 엔터를 쳐주세요!')\n",
    "button.click()\n",
    "\n",
    "time.sleep(2) # 로그인이 완료될 때까지 2초 대기\n",
    "\n",
    "# 이메일 제목 수집\n",
    "title = browser.find_elements(By.CSS_SELECTOR, 'strong.tit_subject')\n",
    "\n",
    "for i in title:\n",
    "    print(i.text)\n",
    "\n",
    "browser.close()"
   ]
  },
  {
   "cell_type": "code",
   "execution_count": null,
   "id": "c413b94b-38bc-46c7-80d9-4d2be4aa3125",
   "metadata": {},
   "outputs": [],
   "source": []
  }
 ],
 "metadata": {
  "kernelspec": {
   "display_name": "Python 3 (ipykernel)",
   "language": "python",
   "name": "python3"
  },
  "language_info": {
   "codemirror_mode": {
    "name": "ipython",
    "version": 3
   },
   "file_extension": ".py",
   "mimetype": "text/x-python",
   "name": "python",
   "nbconvert_exporter": "python",
   "pygments_lexer": "ipython3",
   "version": "3.12.4"
  }
 },
 "nbformat": 4,
 "nbformat_minor": 5
}
