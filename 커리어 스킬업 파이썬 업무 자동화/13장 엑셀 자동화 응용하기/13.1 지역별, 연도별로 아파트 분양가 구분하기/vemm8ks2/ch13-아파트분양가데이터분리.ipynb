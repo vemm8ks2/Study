{
 "cells": [
  {
   "cell_type": "markdown",
   "id": "f76b27e1-5e6a-4e8e-818d-98d5389ed5d5",
   "metadata": {},
   "source": [
    "### 지역별/연도별로 아파트 분양가 구분하기 (13.1)"
   ]
  },
  {
   "cell_type": "markdown",
   "id": "669e298d-eb87-4be1-8678-e066e78124e4",
   "metadata": {},
   "source": [
    "#### 지역별로 아파트 분양가 구분하기 (13.1.1)"
   ]
  },
  {
   "cell_type": "code",
   "execution_count": 1,
   "id": "9617e22d-fc2b-42e4-9e3f-3641c6fb611b",
   "metadata": {},
   "outputs": [
    {
     "name": "stdout",
     "output_type": "stream",
     "text": [
      "['서울' '인천' '경기' '부산' '대구' '광주' '대전' '울산' '세종' '강원' '충북' '충남' '전북' '전남'\n",
      " '경북' '경남' '제주']\n"
     ]
    }
   ],
   "source": [
    "import pandas as pd\n",
    "\n",
    "df = pd.read_excel('./아파트분양가.xlsx')\n",
    "\n",
    "location_list = df['지역명'].unique()\n",
    "print(location_list)"
   ]
  },
  {
   "cell_type": "markdown",
   "id": "518196f0-95ec-4f97-98c7-eb3172098fb6",
   "metadata": {},
   "source": [
    "#### 연도별로 아파트 분양가 구분하기 (13.1.2)"
   ]
  },
  {
   "cell_type": "code",
   "execution_count": null,
   "id": "01911135-e59e-46b0-9ff0-ae28ec99fdcb",
   "metadata": {},
   "outputs": [],
   "source": [
    "for location in location_list:\n",
    "    df_location = df[df['지역명'] == location]\n",
    "    year_list = df_location['연도'].unique()\n",
    "\n",
    "    for year in year_list:\n",
    "        df_year = df_location[df_location['연도'] == year]\n",
    "        df_year = df_year.sort_values(by='월', ascending=True)\n",
    "        print(df_year)"
   ]
  },
  {
   "cell_type": "markdown",
   "id": "12967f0d-fe09-47a3-8e15-f03663000841",
   "metadata": {},
   "source": [
    "```\n",
    "    지역명                 규모    연도   월     분양가\n",
    "0    서울                 전체  2015  10  5841.0\n",
    "1    서울         전용면적 60㎡이하  2015  10  5652.0\n",
    "2    서울   전용면적 60㎡초과 85㎡이하  2015  10  5882.0\n",
    "\n",
    "(중략)\n",
    "\n",
    "172  서울   전용면적 60㎡초과 85㎡이하  2015  12  5966.0\n",
    "173  서울  전용면적 85㎡초과 102㎡이하  2015  12  6513.0\n",
    "174  서울        전용면적 102㎡초과  2015  12  6551.0\n",
    "     지역명                 규모    연도   월     분양가\n",
    "255   서울                 전체  2016   1  6108.0\n",
    "256   서울         전용면적 60㎡이하  2016   1  6427.0\n",
    "257   서울   전용면적 60㎡초과 85㎡이하  2016   1  6036.0\n",
    "\n",
    "(중략)\n",
    "\n",
    "1191  서울         전용면적 60㎡이하  2016  12  6713.0\n",
    "1192  서울   전용면적 60㎡초과 85㎡이하  2016  12  6492.0\n",
    "1194  서울        전용면적 102㎡초과  2016  12  6771.0\n",
    "\n",
    "...\n",
    "```"
   ]
  },
  {
   "cell_type": "code",
   "execution_count": 8,
   "id": "8ee76bef-ee2a-465d-98cb-597256656a4a",
   "metadata": {},
   "outputs": [
    {
     "name": "stdout",
     "output_type": "stream",
     "text": [
      "서울 지역 엑셀 분리 완료\n",
      "인천 지역 엑셀 분리 완료\n",
      "경기 지역 엑셀 분리 완료\n",
      "부산 지역 엑셀 분리 완료\n",
      "대구 지역 엑셀 분리 완료\n",
      "광주 지역 엑셀 분리 완료\n",
      "대전 지역 엑셀 분리 완료\n",
      "울산 지역 엑셀 분리 완료\n",
      "세종 지역 엑셀 분리 완료\n",
      "강원 지역 엑셀 분리 완료\n",
      "충북 지역 엑셀 분리 완료\n",
      "충남 지역 엑셀 분리 완료\n",
      "전북 지역 엑셀 분리 완료\n",
      "전남 지역 엑셀 분리 완료\n",
      "경북 지역 엑셀 분리 완료\n",
      "경남 지역 엑셀 분리 완료\n",
      "제주 지역 엑셀 분리 완료\n"
     ]
    }
   ],
   "source": [
    "from pandas import ExcelWriter\n",
    "\n",
    "for location in location_list:\n",
    "    df_location = df[df['지역명'] == location]\n",
    "    year_list = df_location['연도'].unique()\n",
    "\n",
    "    writer = ExcelWriter(f\"./아파트분양가_{location}.xlsx\")\n",
    "\n",
    "    for year in year_list:\n",
    "        df_year = df_location[df_location['연도'] == year]\n",
    "        df_year = df_year.sort_values(by='월', ascending=True)\n",
    "        df_year.to_excel(writer, sheet_name=str(year), index=None)\n",
    "\n",
    "    writer.close()\n",
    "    print(f\"{location} 지역 엑셀 분리 완료\")"
   ]
  },
  {
   "cell_type": "markdown",
   "id": "d626a605-326c-428a-85b9-a5b55fe1ce06",
   "metadata": {},
   "source": [
    "#### 막대 차트 삽입하기 (13.1.3)"
   ]
  },
  {
   "cell_type": "code",
   "execution_count": 11,
   "id": "345bec38-e9c8-46ee-9bee-fbb3da5a12ba",
   "metadata": {},
   "outputs": [
    {
     "name": "stdout",
     "output_type": "stream",
     "text": [
      "서울 지역 엑셀 작업 완료\n",
      "인천 지역 엑셀 작업 완료\n",
      "경기 지역 엑셀 작업 완료\n",
      "부산 지역 엑셀 작업 완료\n",
      "대구 지역 엑셀 작업 완료\n",
      "광주 지역 엑셀 작업 완료\n",
      "대전 지역 엑셀 작업 완료\n",
      "울산 지역 엑셀 작업 완료\n",
      "세종 지역 엑셀 작업 완료\n",
      "강원 지역 엑셀 작업 완료\n",
      "충북 지역 엑셀 작업 완료\n",
      "충남 지역 엑셀 작업 완료\n",
      "전북 지역 엑셀 작업 완료\n",
      "전남 지역 엑셀 작업 완료\n",
      "경북 지역 엑셀 작업 완료\n",
      "경남 지역 엑셀 작업 완료\n",
      "제주 지역 엑셀 작업 완료\n"
     ]
    }
   ],
   "source": [
    "import openpyxl\n",
    "from openpyxl.chart import BarChart, Reference\n",
    "\n",
    "for location in location_list:\n",
    "    book = openpyxl.load_workbook(f\"./아파트분양가_{location}.xlsx\")\n",
    "\n",
    "    for sheet_name in book.sheetnames:\n",
    "        sheet = book[sheet_name]\n",
    "        \n",
    "        chart = BarChart()\n",
    "        chart.title = f\"{location} 지역 {sheet_name} 년도 아파트 분양가\"\n",
    "\n",
    "        data = Reference(sheet, range_string=f\"{sheet_name}!E1:E{sheet.max_row}\")\n",
    "        \n",
    "        chart.add_data(data, titles_from_data=True)\n",
    "        sheet.add_chart(chart, 'F1')\n",
    "\n",
    "    book.save(f\"./아파트분양가_{location}.xlsx\")\n",
    "    print(f\"{location} 지역 엑셀 작업 완료\")"
   ]
  },
  {
   "cell_type": "markdown",
   "id": "43cca230-d0de-4a79-8cb7-7bb5a59dee5b",
   "metadata": {},
   "source": [
    "#### 셀 서식 적용하기 (13.1.4)"
   ]
  },
  {
   "cell_type": "code",
   "execution_count": 12,
   "id": "9fd130df-7861-4dbf-ba0d-21aea08e6e65",
   "metadata": {},
   "outputs": [
    {
     "name": "stdout",
     "output_type": "stream",
     "text": [
      "서울 지역 엑셀 작업 완료\n",
      "인천 지역 엑셀 작업 완료\n",
      "경기 지역 엑셀 작업 완료\n",
      "부산 지역 엑셀 작업 완료\n",
      "대구 지역 엑셀 작업 완료\n",
      "광주 지역 엑셀 작업 완료\n",
      "대전 지역 엑셀 작업 완료\n",
      "울산 지역 엑셀 작업 완료\n",
      "세종 지역 엑셀 작업 완료\n",
      "강원 지역 엑셀 작업 완료\n",
      "충북 지역 엑셀 작업 완료\n",
      "충남 지역 엑셀 작업 완료\n",
      "전북 지역 엑셀 작업 완료\n",
      "전남 지역 엑셀 작업 완료\n",
      "경북 지역 엑셀 작업 완료\n",
      "경남 지역 엑셀 작업 완료\n",
      "제주 지역 엑셀 작업 완료\n"
     ]
    }
   ],
   "source": [
    "from openpyxl.styles import Font, Alignment, PatternFill, Border, Side\n",
    "\n",
    "font = Font(name='맑은 고딕', size=12, bold=True)\n",
    "alignment_center = Alignment(horizontal='center')\n",
    "color_orange = PatternFill(start_color='FFD732', end_color='FFD732', patternType='solid')\n",
    "color_grey = PatternFill(start_color='D2D2D2', end_color='D2D2D2', patternType='solid')\n",
    "border = Border(left=Side(style='thin'), right=Side(style='thin'), top=Side(style='thin'), bottom=Side(style='thin'))\n",
    "\n",
    "for location in location_list:\n",
    "    book = openpyxl.load_workbook(f\"./아파트분양가_{location}.xlsx\")\n",
    "\n",
    "    for sheet_name in book.sheetnames:\n",
    "        sheet = book[sheet_name]\n",
    "\n",
    "        # 열 너비 조절\n",
    "        sheet.column_dimensions['B'].width = 40\n",
    "\n",
    "        # 제목 행 서식 적용\n",
    "        for row in sheet['A1:E1']:\n",
    "            for cell in row:\n",
    "                cell.font = font\n",
    "                cell.alignment = alignment_center\n",
    "                cell.fill = color_orange\n",
    "                cell.border = border\n",
    "\n",
    "        #데이터 부분 서식 적용\n",
    "        for row in sheet['A2:E{}'.format(sheet.max_row)]:\n",
    "            for cell in row:\n",
    "                cell.font = font\n",
    "                cell.alignment = alignment_center\n",
    "                cell.fill = color_grey\n",
    "                cell.border = border\n",
    "\n",
    "    book.save(f\"./아파트분양가_{location}.xlsx\")\n",
    "    print(f\"{location} 지역 엑셀 작업 완료\")"
   ]
  },
  {
   "cell_type": "markdown",
   "id": "80b0b994-0f16-4580-8feb-46b5e109db87",
   "metadata": {},
   "source": [
    "---\n",
    "\n",
    "### 최종코드"
   ]
  },
  {
   "cell_type": "code",
   "execution_count": 14,
   "id": "d6a9081e-e042-4405-a872-da489a758463",
   "metadata": {},
   "outputs": [
    {
     "name": "stdout",
     "output_type": "stream",
     "text": [
      "서울 지역 엑셀 분리 완료\n",
      "인천 지역 엑셀 분리 완료\n",
      "경기 지역 엑셀 분리 완료\n",
      "부산 지역 엑셀 분리 완료\n",
      "대구 지역 엑셀 분리 완료\n",
      "광주 지역 엑셀 분리 완료\n",
      "대전 지역 엑셀 분리 완료\n",
      "울산 지역 엑셀 분리 완료\n",
      "세종 지역 엑셀 분리 완료\n",
      "강원 지역 엑셀 분리 완료\n",
      "충북 지역 엑셀 분리 완료\n",
      "충남 지역 엑셀 분리 완료\n",
      "전북 지역 엑셀 분리 완료\n",
      "전남 지역 엑셀 분리 완료\n",
      "경북 지역 엑셀 분리 완료\n",
      "경남 지역 엑셀 분리 완료\n",
      "제주 지역 엑셀 분리 완료\n",
      "\n",
      "서울 지역 엑셀 작업 완료\n",
      "인천 지역 엑셀 작업 완료\n",
      "경기 지역 엑셀 작업 완료\n",
      "부산 지역 엑셀 작업 완료\n",
      "대구 지역 엑셀 작업 완료\n",
      "광주 지역 엑셀 작업 완료\n",
      "대전 지역 엑셀 작업 완료\n",
      "울산 지역 엑셀 작업 완료\n",
      "세종 지역 엑셀 작업 완료\n",
      "강원 지역 엑셀 작업 완료\n",
      "충북 지역 엑셀 작업 완료\n",
      "충남 지역 엑셀 작업 완료\n",
      "전북 지역 엑셀 작업 완료\n",
      "전남 지역 엑셀 작업 완료\n",
      "경북 지역 엑셀 작업 완료\n",
      "경남 지역 엑셀 작업 완료\n",
      "제주 지역 엑셀 작업 완료\n"
     ]
    }
   ],
   "source": [
    "import pandas as pd\n",
    "from pandas import ExcelWriter\n",
    "import openpyxl\n",
    "from openpyxl.chart import BarChart, Reference\n",
    "from openpyxl.styles import Font, Alignment, PatternFill, Border, Side\n",
    "\n",
    "df = pd.read_excel('./아파트분양가.xlsx')\n",
    "\n",
    "location_list = df['지역명'].unique()\n",
    "\n",
    "for location in location_list:\n",
    "    df_location = df[df['지역명'] == location]\n",
    "    year_list = df_location['연도'].unique()\n",
    "\n",
    "    writer = ExcelWriter(f\"./아파트분양가_{location}.xlsx\")\n",
    "\n",
    "    for year in year_list:\n",
    "        df_year = df_location[df_location['연도'] == year]\n",
    "        df_year = df_year.sort_values(by='월', ascending=True)\n",
    "        df_year.to_excel(writer, sheet_name=str(year), index=None)\n",
    "\n",
    "    writer.close()\n",
    "    print(f\"{location} 지역 엑셀 분리 완료\")\n",
    "print()\n",
    "\n",
    "font = Font(name='맑은 고딕', size=12, bold=True)\n",
    "alignment_center = Alignment(horizontal='center')\n",
    "color_orange = PatternFill(start_color='FFD732', end_color='FFD732', patternType='solid')\n",
    "color_grey = PatternFill(start_color='D2D2D2', end_color='D2D2D2', patternType='solid')\n",
    "border = Border(left=Side(style='thin'), right=Side(style='thin'), top=Side(style='thin'), bottom=Side(style='thin'))\n",
    "\n",
    "for location in location_list:\n",
    "    book = openpyxl.load_workbook(f\"./아파트분양가_{location}.xlsx\")\n",
    "\n",
    "    for sheet_name in book.sheetnames:\n",
    "        sheet = book[sheet_name]\n",
    "\n",
    "        # 열 너비 조절\n",
    "        sheet.column_dimensions['B'].width = 40\n",
    "\n",
    "        # 제목 행 서식 적용\n",
    "        for row in sheet['A1:E1']:\n",
    "            for cell in row:\n",
    "                cell.font = font\n",
    "                cell.alignment = alignment_center\n",
    "                cell.fill = color_orange\n",
    "                cell.border = border\n",
    "\n",
    "        #데이터 부분 서식 적용\n",
    "        for row in sheet['A2:E{}'.format(sheet.max_row)]:\n",
    "            for cell in row:\n",
    "                cell.font = font\n",
    "                cell.alignment = alignment_center\n",
    "                cell.fill = color_grey\n",
    "                cell.border = border\n",
    "        \n",
    "        chart = BarChart()\n",
    "        chart.title = f\"{location} 지역 {sheet_name} 년도 아파트 분양가\"\n",
    "        \n",
    "        data = Reference(sheet, range_string=f\"{sheet_name}!E1:E{sheet.max_row}\")\n",
    "        \n",
    "        chart.add_data(data, titles_from_data=True)\n",
    "        sheet.add_chart(chart, 'F1')\n",
    "\n",
    "    book.save(f\"./아파트분양가_{location}.xlsx\")\n",
    "    print(f\"{location} 지역 엑셀 작업 완료\")"
   ]
  }
 ],
 "metadata": {
  "kernelspec": {
   "display_name": "Python 3 (ipykernel)",
   "language": "python",
   "name": "python3"
  },
  "language_info": {
   "codemirror_mode": {
    "name": "ipython",
    "version": 3
   },
   "file_extension": ".py",
   "mimetype": "text/x-python",
   "name": "python",
   "nbconvert_exporter": "python",
   "pygments_lexer": "ipython3",
   "version": "3.12.4"
  }
 },
 "nbformat": 4,
 "nbformat_minor": 5
}
